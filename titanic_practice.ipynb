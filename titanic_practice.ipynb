{
 "cells": [
  {
   "cell_type": "markdown",
   "id": "c3753e5f",
   "metadata": {},
   "source": [
    "# Machine learning practice using the Titanic dataset"
   ]
  },
  {
   "cell_type": "code",
   "execution_count": 1,
   "id": "8578487e",
   "metadata": {
    "_cell_guid": "b1076dfc-b9ad-4769-8c92-a6c4dae69d19",
    "_uuid": "8f2839f25d086af736a60e9eeb907d3b93b6e0e5",
    "execution": {
     "iopub.execute_input": "2023-06-24T04:58:42.799653Z",
     "iopub.status.busy": "2023-06-24T04:58:42.799271Z",
     "iopub.status.idle": "2023-06-24T04:58:42.813478Z",
     "shell.execute_reply": "2023-06-24T04:58:42.812448Z"
    },
    "papermill": {
     "duration": 0.039783,
     "end_time": "2023-06-24T04:58:42.815587",
     "exception": false,
     "start_time": "2023-06-24T04:58:42.775804",
     "status": "completed"
    },
    "tags": []
   },
   "outputs": [
    {
     "name": "stdout",
     "output_type": "stream",
     "text": [
      "/kaggle/input/titanic/train.csv\n",
      "/kaggle/input/titanic/test.csv\n",
      "/kaggle/input/titanic/gender_submission.csv\n"
     ]
    }
   ],
   "source": [
    "# This Python 3 environment comes with many helpful analytics libraries installed\n",
    "# It is defined by the kaggle/python Docker image: https://github.com/kaggle/docker-python\n",
    "# For example, here's several helpful packages to load\n",
    "\n",
    "import numpy as np # linear algebra\n",
    "import pandas as pd # data processing, CSV file I/O (e.g. pd.read_csv)\n",
    "\n",
    "# Input data files are available in the read-only \"../input/\" directory\n",
    "# For example, running this (by clicking run or pressing Shift+Enter) will list all files under the input directory\n",
    "\n",
    "import os\n",
    "for dirname, _, filenames in os.walk('/kaggle/input'):\n",
    "    for filename in filenames:\n",
    "        print(os.path.join(dirname, filename))\n",
    "\n",
    "# You can write up to 20GB to the current directory (/kaggle/working/) that gets preserved as output when you create a version using \"Save & Run All\" \n",
    "# You can also write temporary files to /kaggle/temp/, but they won't be saved outside of the current session"
   ]
  },
  {
   "cell_type": "code",
   "execution_count": 2,
   "id": "2ca3655a",
   "metadata": {
    "execution": {
     "iopub.execute_input": "2023-06-24T04:58:42.862704Z",
     "iopub.status.busy": "2023-06-24T04:58:42.862352Z",
     "iopub.status.idle": "2023-06-24T04:58:42.869287Z",
     "shell.execute_reply": "2023-06-24T04:58:42.868381Z"
    },
    "papermill": {
     "duration": 0.033009,
     "end_time": "2023-06-24T04:58:42.871282",
     "exception": false,
     "start_time": "2023-06-24T04:58:42.838273",
     "status": "completed"
    },
    "tags": []
   },
   "outputs": [
    {
     "data": {
      "text/plain": [
       "'/kaggle/working'"
      ]
     },
     "execution_count": 2,
     "metadata": {},
     "output_type": "execute_result"
    }
   ],
   "source": [
    "pwd\n"
   ]
  },
  {
   "cell_type": "code",
   "execution_count": 3,
   "id": "9e2ead64",
   "metadata": {
    "execution": {
     "iopub.execute_input": "2023-06-24T04:58:42.917817Z",
     "iopub.status.busy": "2023-06-24T04:58:42.917374Z",
     "iopub.status.idle": "2023-06-24T04:58:42.921495Z",
     "shell.execute_reply": "2023-06-24T04:58:42.920467Z"
    },
    "papermill": {
     "duration": 0.029466,
     "end_time": "2023-06-24T04:58:42.923422",
     "exception": false,
     "start_time": "2023-06-24T04:58:42.893956",
     "status": "completed"
    },
    "tags": []
   },
   "outputs": [],
   "source": [
    "#cd /kaggle/input/"
   ]
  },
  {
   "cell_type": "code",
   "execution_count": 4,
   "id": "605f47a9",
   "metadata": {
    "execution": {
     "iopub.execute_input": "2023-06-24T04:58:42.970110Z",
     "iopub.status.busy": "2023-06-24T04:58:42.969691Z",
     "iopub.status.idle": "2023-06-24T04:58:44.010989Z",
     "shell.execute_reply": "2023-06-24T04:58:44.009622Z"
    },
    "papermill": {
     "duration": 1.068098,
     "end_time": "2023-06-24T04:58:44.013600",
     "exception": false,
     "start_time": "2023-06-24T04:58:42.945502",
     "status": "completed"
    },
    "tags": []
   },
   "outputs": [
    {
     "name": "stdout",
     "output_type": "stream",
     "text": [
      "__notebook__.ipynb\r\n"
     ]
    }
   ],
   "source": [
    "ls"
   ]
  },
  {
   "cell_type": "code",
   "execution_count": 5,
   "id": "a8dba137",
   "metadata": {
    "execution": {
     "iopub.execute_input": "2023-06-24T04:58:44.061309Z",
     "iopub.status.busy": "2023-06-24T04:58:44.060851Z",
     "iopub.status.idle": "2023-06-24T04:58:44.067881Z",
     "shell.execute_reply": "2023-06-24T04:58:44.066597Z"
    },
    "papermill": {
     "duration": 0.033083,
     "end_time": "2023-06-24T04:58:44.070199",
     "exception": false,
     "start_time": "2023-06-24T04:58:44.037116",
     "status": "completed"
    },
    "tags": []
   },
   "outputs": [
    {
     "name": "stdout",
     "output_type": "stream",
     "text": [
      "[Errno 2] No such file or directory: 'titanic'\n",
      "/kaggle/working\n"
     ]
    }
   ],
   "source": [
    "cd titanic"
   ]
  },
  {
   "cell_type": "code",
   "execution_count": 6,
   "id": "f951578d",
   "metadata": {
    "execution": {
     "iopub.execute_input": "2023-06-24T04:58:44.115169Z",
     "iopub.status.busy": "2023-06-24T04:58:44.114802Z",
     "iopub.status.idle": "2023-06-24T04:58:45.143948Z",
     "shell.execute_reply": "2023-06-24T04:58:45.142606Z"
    },
    "papermill": {
     "duration": 1.054351,
     "end_time": "2023-06-24T04:58:45.146550",
     "exception": false,
     "start_time": "2023-06-24T04:58:44.092199",
     "status": "completed"
    },
    "tags": []
   },
   "outputs": [
    {
     "name": "stdout",
     "output_type": "stream",
     "text": [
      "__notebook__.ipynb\r\n"
     ]
    }
   ],
   "source": [
    "ls"
   ]
  },
  {
   "cell_type": "code",
   "execution_count": 7,
   "id": "f80f43e6",
   "metadata": {
    "execution": {
     "iopub.execute_input": "2023-06-24T04:58:45.193100Z",
     "iopub.status.busy": "2023-06-24T04:58:45.192690Z",
     "iopub.status.idle": "2023-06-24T04:58:45.197209Z",
     "shell.execute_reply": "2023-06-24T04:58:45.196174Z"
    },
    "papermill": {
     "duration": 0.030392,
     "end_time": "2023-06-24T04:58:45.199262",
     "exception": false,
     "start_time": "2023-06-24T04:58:45.168870",
     "status": "completed"
    },
    "tags": []
   },
   "outputs": [],
   "source": [
    "dir_input = '/kaggle/input/titanic/'\n",
    "\n",
    "#gender_submission.csv  test.csv  train.csv"
   ]
  },
  {
   "cell_type": "code",
   "execution_count": 8,
   "id": "80e6db4c",
   "metadata": {
    "execution": {
     "iopub.execute_input": "2023-06-24T04:58:45.246743Z",
     "iopub.status.busy": "2023-06-24T04:58:45.246385Z",
     "iopub.status.idle": "2023-06-24T04:58:46.554241Z",
     "shell.execute_reply": "2023-06-24T04:58:46.553215Z"
    },
    "papermill": {
     "duration": 1.33485,
     "end_time": "2023-06-24T04:58:46.556536",
     "exception": false,
     "start_time": "2023-06-24T04:58:45.221686",
     "status": "completed"
    },
    "tags": []
   },
   "outputs": [],
   "source": [
    "import pandas as pd\n",
    "import matplotlib.pyplot as plt\n",
    "import seaborn as sns"
   ]
  },
  {
   "cell_type": "markdown",
   "id": "15950be0",
   "metadata": {
    "papermill": {
     "duration": 0.021824,
     "end_time": "2023-06-24T04:58:46.601307",
     "exception": false,
     "start_time": "2023-06-24T04:58:46.579483",
     "status": "completed"
    },
    "tags": []
   },
   "source": [
    "## 1. .csv 파일을 데이터프레임으로 로드하기"
   ]
  },
  {
   "cell_type": "code",
   "execution_count": 3,
   "id": "0beb1eb9",
   "metadata": {
    "execution": {
     "iopub.execute_input": "2023-06-24T04:58:46.646026Z",
     "iopub.status.busy": "2023-06-24T04:58:46.645656Z",
     "iopub.status.idle": "2023-06-24T04:58:46.707654Z",
     "shell.execute_reply": "2023-06-24T04:58:46.706648Z"
    },
    "papermill": {
     "duration": 0.086972,
     "end_time": "2023-06-24T04:58:46.710030",
     "exception": false,
     "start_time": "2023-06-24T04:58:46.623058",
     "status": "completed"
    },
    "tags": []
   },
   "outputs": [
    {
     "data": {
      "text/html": [
       "<div>\n",
       "<style scoped>\n",
       "    .dataframe tbody tr th:only-of-type {\n",
       "        vertical-align: middle;\n",
       "    }\n",
       "\n",
       "    .dataframe tbody tr th {\n",
       "        vertical-align: top;\n",
       "    }\n",
       "\n",
       "    .dataframe thead th {\n",
       "        text-align: right;\n",
       "    }\n",
       "</style>\n",
       "<table border=\"1\" class=\"dataframe\">\n",
       "  <thead>\n",
       "    <tr style=\"text-align: right;\">\n",
       "      <th></th>\n",
       "      <th>PassengerId</th>\n",
       "      <th>Survived</th>\n",
       "      <th>Pclass</th>\n",
       "      <th>Name</th>\n",
       "      <th>Sex</th>\n",
       "      <th>Age</th>\n",
       "      <th>SibSp</th>\n",
       "      <th>Parch</th>\n",
       "      <th>Ticket</th>\n",
       "      <th>Fare</th>\n",
       "      <th>Cabin</th>\n",
       "      <th>Embarked</th>\n",
       "    </tr>\n",
       "  </thead>\n",
       "  <tbody>\n",
       "    <tr>\n",
       "      <th>0</th>\n",
       "      <td>1</td>\n",
       "      <td>0</td>\n",
       "      <td>3</td>\n",
       "      <td>Braund, Mr. Owen Harris</td>\n",
       "      <td>male</td>\n",
       "      <td>22.0</td>\n",
       "      <td>1</td>\n",
       "      <td>0</td>\n",
       "      <td>A/5 21171</td>\n",
       "      <td>7.2500</td>\n",
       "      <td>NaN</td>\n",
       "      <td>S</td>\n",
       "    </tr>\n",
       "    <tr>\n",
       "      <th>1</th>\n",
       "      <td>2</td>\n",
       "      <td>1</td>\n",
       "      <td>1</td>\n",
       "      <td>Cumings, Mrs. John Bradley (Florence Briggs Th...</td>\n",
       "      <td>female</td>\n",
       "      <td>38.0</td>\n",
       "      <td>1</td>\n",
       "      <td>0</td>\n",
       "      <td>PC 17599</td>\n",
       "      <td>71.2833</td>\n",
       "      <td>C85</td>\n",
       "      <td>C</td>\n",
       "    </tr>\n",
       "    <tr>\n",
       "      <th>2</th>\n",
       "      <td>3</td>\n",
       "      <td>1</td>\n",
       "      <td>3</td>\n",
       "      <td>Heikkinen, Miss. Laina</td>\n",
       "      <td>female</td>\n",
       "      <td>26.0</td>\n",
       "      <td>0</td>\n",
       "      <td>0</td>\n",
       "      <td>STON/O2. 3101282</td>\n",
       "      <td>7.9250</td>\n",
       "      <td>NaN</td>\n",
       "      <td>S</td>\n",
       "    </tr>\n",
       "    <tr>\n",
       "      <th>3</th>\n",
       "      <td>4</td>\n",
       "      <td>1</td>\n",
       "      <td>1</td>\n",
       "      <td>Futrelle, Mrs. Jacques Heath (Lily May Peel)</td>\n",
       "      <td>female</td>\n",
       "      <td>35.0</td>\n",
       "      <td>1</td>\n",
       "      <td>0</td>\n",
       "      <td>113803</td>\n",
       "      <td>53.1000</td>\n",
       "      <td>C123</td>\n",
       "      <td>S</td>\n",
       "    </tr>\n",
       "    <tr>\n",
       "      <th>4</th>\n",
       "      <td>5</td>\n",
       "      <td>0</td>\n",
       "      <td>3</td>\n",
       "      <td>Allen, Mr. William Henry</td>\n",
       "      <td>male</td>\n",
       "      <td>35.0</td>\n",
       "      <td>0</td>\n",
       "      <td>0</td>\n",
       "      <td>373450</td>\n",
       "      <td>8.0500</td>\n",
       "      <td>NaN</td>\n",
       "      <td>S</td>\n",
       "    </tr>\n",
       "    <tr>\n",
       "      <th>...</th>\n",
       "      <td>...</td>\n",
       "      <td>...</td>\n",
       "      <td>...</td>\n",
       "      <td>...</td>\n",
       "      <td>...</td>\n",
       "      <td>...</td>\n",
       "      <td>...</td>\n",
       "      <td>...</td>\n",
       "      <td>...</td>\n",
       "      <td>...</td>\n",
       "      <td>...</td>\n",
       "      <td>...</td>\n",
       "    </tr>\n",
       "    <tr>\n",
       "      <th>886</th>\n",
       "      <td>887</td>\n",
       "      <td>0</td>\n",
       "      <td>2</td>\n",
       "      <td>Montvila, Rev. Juozas</td>\n",
       "      <td>male</td>\n",
       "      <td>27.0</td>\n",
       "      <td>0</td>\n",
       "      <td>0</td>\n",
       "      <td>211536</td>\n",
       "      <td>13.0000</td>\n",
       "      <td>NaN</td>\n",
       "      <td>S</td>\n",
       "    </tr>\n",
       "    <tr>\n",
       "      <th>887</th>\n",
       "      <td>888</td>\n",
       "      <td>1</td>\n",
       "      <td>1</td>\n",
       "      <td>Graham, Miss. Margaret Edith</td>\n",
       "      <td>female</td>\n",
       "      <td>19.0</td>\n",
       "      <td>0</td>\n",
       "      <td>0</td>\n",
       "      <td>112053</td>\n",
       "      <td>30.0000</td>\n",
       "      <td>B42</td>\n",
       "      <td>S</td>\n",
       "    </tr>\n",
       "    <tr>\n",
       "      <th>888</th>\n",
       "      <td>889</td>\n",
       "      <td>0</td>\n",
       "      <td>3</td>\n",
       "      <td>Johnston, Miss. Catherine Helen \"Carrie\"</td>\n",
       "      <td>female</td>\n",
       "      <td>NaN</td>\n",
       "      <td>1</td>\n",
       "      <td>2</td>\n",
       "      <td>W./C. 6607</td>\n",
       "      <td>23.4500</td>\n",
       "      <td>NaN</td>\n",
       "      <td>S</td>\n",
       "    </tr>\n",
       "    <tr>\n",
       "      <th>889</th>\n",
       "      <td>890</td>\n",
       "      <td>1</td>\n",
       "      <td>1</td>\n",
       "      <td>Behr, Mr. Karl Howell</td>\n",
       "      <td>male</td>\n",
       "      <td>26.0</td>\n",
       "      <td>0</td>\n",
       "      <td>0</td>\n",
       "      <td>111369</td>\n",
       "      <td>30.0000</td>\n",
       "      <td>C148</td>\n",
       "      <td>C</td>\n",
       "    </tr>\n",
       "    <tr>\n",
       "      <th>890</th>\n",
       "      <td>891</td>\n",
       "      <td>0</td>\n",
       "      <td>3</td>\n",
       "      <td>Dooley, Mr. Patrick</td>\n",
       "      <td>male</td>\n",
       "      <td>32.0</td>\n",
       "      <td>0</td>\n",
       "      <td>0</td>\n",
       "      <td>370376</td>\n",
       "      <td>7.7500</td>\n",
       "      <td>NaN</td>\n",
       "      <td>Q</td>\n",
       "    </tr>\n",
       "  </tbody>\n",
       "</table>\n",
       "<p>891 rows × 12 columns</p>\n",
       "</div>"
      ],
      "text/plain": [
       "     PassengerId  Survived  Pclass  \\\n",
       "0              1         0       3   \n",
       "1              2         1       1   \n",
       "2              3         1       3   \n",
       "3              4         1       1   \n",
       "4              5         0       3   \n",
       "..           ...       ...     ...   \n",
       "886          887         0       2   \n",
       "887          888         1       1   \n",
       "888          889         0       3   \n",
       "889          890         1       1   \n",
       "890          891         0       3   \n",
       "\n",
       "                                                  Name     Sex   Age  SibSp  \\\n",
       "0                              Braund, Mr. Owen Harris    male  22.0      1   \n",
       "1    Cumings, Mrs. John Bradley (Florence Briggs Th...  female  38.0      1   \n",
       "2                               Heikkinen, Miss. Laina  female  26.0      0   \n",
       "3         Futrelle, Mrs. Jacques Heath (Lily May Peel)  female  35.0      1   \n",
       "4                             Allen, Mr. William Henry    male  35.0      0   \n",
       "..                                                 ...     ...   ...    ...   \n",
       "886                              Montvila, Rev. Juozas    male  27.0      0   \n",
       "887                       Graham, Miss. Margaret Edith  female  19.0      0   \n",
       "888           Johnston, Miss. Catherine Helen \"Carrie\"  female   NaN      1   \n",
       "889                              Behr, Mr. Karl Howell    male  26.0      0   \n",
       "890                                Dooley, Mr. Patrick    male  32.0      0   \n",
       "\n",
       "     Parch            Ticket     Fare Cabin Embarked  \n",
       "0        0         A/5 21171   7.2500   NaN        S  \n",
       "1        0          PC 17599  71.2833   C85        C  \n",
       "2        0  STON/O2. 3101282   7.9250   NaN        S  \n",
       "3        0            113803  53.1000  C123        S  \n",
       "4        0            373450   8.0500   NaN        S  \n",
       "..     ...               ...      ...   ...      ...  \n",
       "886      0            211536  13.0000   NaN        S  \n",
       "887      0            112053  30.0000   B42        S  \n",
       "888      2        W./C. 6607  23.4500   NaN        S  \n",
       "889      0            111369  30.0000  C148        C  \n",
       "890      0            370376   7.7500   NaN        Q  \n",
       "\n",
       "[891 rows x 12 columns]"
      ]
     },
     "execution_count": 3,
     "metadata": {},
     "output_type": "execute_result"
    }
   ],
   "source": [
    "import pandas as pd\n",
    "#dir_input = '/kaggle/input/titanic/' \n",
    "\n",
    "#train = pd.read_csv(dir_input+'train.csv')\n",
    "#train = pd.read_csv('../input/titanic/train.csv')\n",
    "\n",
    "\n",
    "train = pd.read_csv('titanic.csv')\n",
    "train"
   ]
  },
  {
   "cell_type": "markdown",
   "id": "85de8177",
   "metadata": {
    "papermill": {
     "duration": 0.022476,
     "end_time": "2023-06-24T04:58:46.755424",
     "exception": false,
     "start_time": "2023-06-24T04:58:46.732948",
     "status": "completed"
    },
    "tags": []
   },
   "source": [
    "## 2. 데이터 전처리\n",
    "\n",
    "    1>데이터 살펴보기\n",
    "    \n",
    "    2>데이터 셋에 결측치가 있는지 확인하기\n",
    "    "
   ]
  },
  {
   "cell_type": "markdown",
   "id": "e84397dc",
   "metadata": {
    "papermill": {
     "duration": 0.023681,
     "end_time": "2023-06-24T04:58:46.803153",
     "exception": false,
     "start_time": "2023-06-24T04:58:46.779472",
     "status": "completed"
    },
    "tags": []
   },
   "source": []
  },
  {
   "cell_type": "code",
   "execution_count": 10,
   "id": "7a03dfb3",
   "metadata": {
    "execution": {
     "iopub.execute_input": "2023-06-24T04:58:46.853949Z",
     "iopub.status.busy": "2023-06-24T04:58:46.853568Z",
     "iopub.status.idle": "2023-06-24T04:58:46.876634Z",
     "shell.execute_reply": "2023-06-24T04:58:46.875545Z"
    },
    "papermill": {
     "duration": 0.051533,
     "end_time": "2023-06-24T04:58:46.879201",
     "exception": false,
     "start_time": "2023-06-24T04:58:46.827668",
     "status": "completed"
    },
    "tags": []
   },
   "outputs": [
    {
     "name": "stdout",
     "output_type": "stream",
     "text": [
      "<class 'pandas.core.frame.DataFrame'>\n",
      "RangeIndex: 891 entries, 0 to 890\n",
      "Data columns (total 12 columns):\n",
      " #   Column       Non-Null Count  Dtype  \n",
      "---  ------       --------------  -----  \n",
      " 0   PassengerId  891 non-null    int64  \n",
      " 1   Survived     891 non-null    int64  \n",
      " 2   Pclass       891 non-null    int64  \n",
      " 3   Name         891 non-null    object \n",
      " 4   Sex          891 non-null    object \n",
      " 5   Age          714 non-null    float64\n",
      " 6   SibSp        891 non-null    int64  \n",
      " 7   Parch        891 non-null    int64  \n",
      " 8   Ticket       891 non-null    object \n",
      " 9   Fare         891 non-null    float64\n",
      " 10  Cabin        204 non-null    object \n",
      " 11  Embarked     889 non-null    object \n",
      "dtypes: float64(2), int64(5), object(5)\n",
      "memory usage: 83.7+ KB\n"
     ]
    }
   ],
   "source": [
    "#데이터 살펴보기\n",
    "train.info()"
   ]
  },
  {
   "cell_type": "markdown",
   "id": "f18fffe1",
   "metadata": {
    "papermill": {
     "duration": 0.024061,
     "end_time": "2023-06-24T04:58:46.928226",
     "exception": false,
     "start_time": "2023-06-24T04:58:46.904165",
     "status": "completed"
    },
    "tags": []
   },
   "source": []
  },
  {
   "cell_type": "code",
   "execution_count": 11,
   "id": "0e352aaa",
   "metadata": {
    "execution": {
     "iopub.execute_input": "2023-06-24T04:58:46.977230Z",
     "iopub.status.busy": "2023-06-24T04:58:46.976838Z",
     "iopub.status.idle": "2023-06-24T04:58:47.014625Z",
     "shell.execute_reply": "2023-06-24T04:58:47.013790Z"
    },
    "papermill": {
     "duration": 0.064633,
     "end_time": "2023-06-24T04:58:47.016613",
     "exception": false,
     "start_time": "2023-06-24T04:58:46.951980",
     "status": "completed"
    },
    "tags": []
   },
   "outputs": [
    {
     "data": {
      "text/html": [
       "<div>\n",
       "<style scoped>\n",
       "    .dataframe tbody tr th:only-of-type {\n",
       "        vertical-align: middle;\n",
       "    }\n",
       "\n",
       "    .dataframe tbody tr th {\n",
       "        vertical-align: top;\n",
       "    }\n",
       "\n",
       "    .dataframe thead th {\n",
       "        text-align: right;\n",
       "    }\n",
       "</style>\n",
       "<table border=\"1\" class=\"dataframe\">\n",
       "  <thead>\n",
       "    <tr style=\"text-align: right;\">\n",
       "      <th></th>\n",
       "      <th>PassengerId</th>\n",
       "      <th>Survived</th>\n",
       "      <th>Pclass</th>\n",
       "      <th>Age</th>\n",
       "      <th>SibSp</th>\n",
       "      <th>Parch</th>\n",
       "      <th>Fare</th>\n",
       "    </tr>\n",
       "  </thead>\n",
       "  <tbody>\n",
       "    <tr>\n",
       "      <th>count</th>\n",
       "      <td>891.000000</td>\n",
       "      <td>891.000000</td>\n",
       "      <td>891.000000</td>\n",
       "      <td>714.000000</td>\n",
       "      <td>891.000000</td>\n",
       "      <td>891.000000</td>\n",
       "      <td>891.000000</td>\n",
       "    </tr>\n",
       "    <tr>\n",
       "      <th>mean</th>\n",
       "      <td>446.000000</td>\n",
       "      <td>0.383838</td>\n",
       "      <td>2.308642</td>\n",
       "      <td>29.699118</td>\n",
       "      <td>0.523008</td>\n",
       "      <td>0.381594</td>\n",
       "      <td>32.204208</td>\n",
       "    </tr>\n",
       "    <tr>\n",
       "      <th>std</th>\n",
       "      <td>257.353842</td>\n",
       "      <td>0.486592</td>\n",
       "      <td>0.836071</td>\n",
       "      <td>14.526497</td>\n",
       "      <td>1.102743</td>\n",
       "      <td>0.806057</td>\n",
       "      <td>49.693429</td>\n",
       "    </tr>\n",
       "    <tr>\n",
       "      <th>min</th>\n",
       "      <td>1.000000</td>\n",
       "      <td>0.000000</td>\n",
       "      <td>1.000000</td>\n",
       "      <td>0.420000</td>\n",
       "      <td>0.000000</td>\n",
       "      <td>0.000000</td>\n",
       "      <td>0.000000</td>\n",
       "    </tr>\n",
       "    <tr>\n",
       "      <th>25%</th>\n",
       "      <td>223.500000</td>\n",
       "      <td>0.000000</td>\n",
       "      <td>2.000000</td>\n",
       "      <td>20.125000</td>\n",
       "      <td>0.000000</td>\n",
       "      <td>0.000000</td>\n",
       "      <td>7.910400</td>\n",
       "    </tr>\n",
       "    <tr>\n",
       "      <th>50%</th>\n",
       "      <td>446.000000</td>\n",
       "      <td>0.000000</td>\n",
       "      <td>3.000000</td>\n",
       "      <td>28.000000</td>\n",
       "      <td>0.000000</td>\n",
       "      <td>0.000000</td>\n",
       "      <td>14.454200</td>\n",
       "    </tr>\n",
       "    <tr>\n",
       "      <th>75%</th>\n",
       "      <td>668.500000</td>\n",
       "      <td>1.000000</td>\n",
       "      <td>3.000000</td>\n",
       "      <td>38.000000</td>\n",
       "      <td>1.000000</td>\n",
       "      <td>0.000000</td>\n",
       "      <td>31.000000</td>\n",
       "    </tr>\n",
       "    <tr>\n",
       "      <th>max</th>\n",
       "      <td>891.000000</td>\n",
       "      <td>1.000000</td>\n",
       "      <td>3.000000</td>\n",
       "      <td>80.000000</td>\n",
       "      <td>8.000000</td>\n",
       "      <td>6.000000</td>\n",
       "      <td>512.329200</td>\n",
       "    </tr>\n",
       "  </tbody>\n",
       "</table>\n",
       "</div>"
      ],
      "text/plain": [
       "       PassengerId    Survived      Pclass         Age       SibSp  \\\n",
       "count   891.000000  891.000000  891.000000  714.000000  891.000000   \n",
       "mean    446.000000    0.383838    2.308642   29.699118    0.523008   \n",
       "std     257.353842    0.486592    0.836071   14.526497    1.102743   \n",
       "min       1.000000    0.000000    1.000000    0.420000    0.000000   \n",
       "25%     223.500000    0.000000    2.000000   20.125000    0.000000   \n",
       "50%     446.000000    0.000000    3.000000   28.000000    0.000000   \n",
       "75%     668.500000    1.000000    3.000000   38.000000    1.000000   \n",
       "max     891.000000    1.000000    3.000000   80.000000    8.000000   \n",
       "\n",
       "            Parch        Fare  \n",
       "count  891.000000  891.000000  \n",
       "mean     0.381594   32.204208  \n",
       "std      0.806057   49.693429  \n",
       "min      0.000000    0.000000  \n",
       "25%      0.000000    7.910400  \n",
       "50%      0.000000   14.454200  \n",
       "75%      0.000000   31.000000  \n",
       "max      6.000000  512.329200  "
      ]
     },
     "execution_count": 11,
     "metadata": {},
     "output_type": "execute_result"
    }
   ],
   "source": [
    " #학습 데이터 셋의 각 필드 데이터 분포(평균, 최소값, 최대값 등)를 살펴보기\n",
    "train.describe()"
   ]
  },
  {
   "cell_type": "code",
   "execution_count": 12,
   "id": "37ef2767",
   "metadata": {
    "execution": {
     "iopub.execute_input": "2023-06-24T04:58:47.067208Z",
     "iopub.status.busy": "2023-06-24T04:58:47.066109Z",
     "iopub.status.idle": "2023-06-24T04:58:47.083259Z",
     "shell.execute_reply": "2023-06-24T04:58:47.082212Z"
    },
    "papermill": {
     "duration": 0.044861,
     "end_time": "2023-06-24T04:58:47.085508",
     "exception": false,
     "start_time": "2023-06-24T04:58:47.040647",
     "status": "completed"
    },
    "tags": []
   },
   "outputs": [
    {
     "name": "stdout",
     "output_type": "stream",
     "text": [
      "(891, 12)\n",
      "<class 'pandas.core.frame.DataFrame'>\n",
      "RangeIndex: 891 entries, 0 to 890\n",
      "Data columns (total 12 columns):\n",
      " #   Column       Non-Null Count  Dtype  \n",
      "---  ------       --------------  -----  \n",
      " 0   PassengerId  891 non-null    int64  \n",
      " 1   Survived     891 non-null    int64  \n",
      " 2   Pclass       891 non-null    int64  \n",
      " 3   Name         891 non-null    object \n",
      " 4   Sex          891 non-null    object \n",
      " 5   Age          714 non-null    float64\n",
      " 6   SibSp        891 non-null    int64  \n",
      " 7   Parch        891 non-null    int64  \n",
      " 8   Ticket       891 non-null    object \n",
      " 9   Fare         891 non-null    float64\n",
      " 10  Cabin        204 non-null    object \n",
      " 11  Embarked     889 non-null    object \n",
      "dtypes: float64(2), int64(5), object(5)\n",
      "memory usage: 83.7+ KB\n"
     ]
    },
    {
     "data": {
      "text/plain": [
       "PassengerId      int64\n",
       "Survived         int64\n",
       "Pclass           int64\n",
       "Name            object\n",
       "Sex             object\n",
       "Age            float64\n",
       "SibSp            int64\n",
       "Parch            int64\n",
       "Ticket          object\n",
       "Fare           float64\n",
       "Cabin           object\n",
       "Embarked        object\n",
       "dtype: object"
      ]
     },
     "execution_count": 12,
     "metadata": {},
     "output_type": "execute_result"
    }
   ],
   "source": [
    "#각 컬럼의 데이터 타입 확인하기\n",
    "print(train.shape)\n",
    "train.info()\n",
    "train.dtypes"
   ]
  },
  {
   "cell_type": "code",
   "execution_count": 13,
   "id": "6eaa3115",
   "metadata": {
    "execution": {
     "iopub.execute_input": "2023-06-24T04:58:47.136479Z",
     "iopub.status.busy": "2023-06-24T04:58:47.135392Z",
     "iopub.status.idle": "2023-06-24T04:58:47.143037Z",
     "shell.execute_reply": "2023-06-24T04:58:47.142209Z"
    },
    "papermill": {
     "duration": 0.034794,
     "end_time": "2023-06-24T04:58:47.144855",
     "exception": false,
     "start_time": "2023-06-24T04:58:47.110061",
     "status": "completed"
    },
    "tags": []
   },
   "outputs": [
    {
     "data": {
      "text/plain": [
       "array([nan, 'C85', 'C123', 'E46', 'G6', 'C103', 'D56', 'A6',\n",
       "       'C23 C25 C27', 'B78', 'D33', 'B30', 'C52', 'B28', 'C83', 'F33',\n",
       "       'F G73', 'E31', 'A5', 'D10 D12', 'D26', 'C110', 'B58 B60', 'E101',\n",
       "       'F E69', 'D47', 'B86', 'F2', 'C2', 'E33', 'B19', 'A7', 'C49', 'F4',\n",
       "       'A32', 'B4', 'B80', 'A31', 'D36', 'D15', 'C93', 'C78', 'D35',\n",
       "       'C87', 'B77', 'E67', 'B94', 'C125', 'C99', 'C118', 'D7', 'A19',\n",
       "       'B49', 'D', 'C22 C26', 'C106', 'C65', 'E36', 'C54',\n",
       "       'B57 B59 B63 B66', 'C7', 'E34', 'C32', 'B18', 'C124', 'C91', 'E40',\n",
       "       'T', 'C128', 'D37', 'B35', 'E50', 'C82', 'B96 B98', 'E10', 'E44',\n",
       "       'A34', 'C104', 'C111', 'C92', 'E38', 'D21', 'E12', 'E63', 'A14',\n",
       "       'B37', 'C30', 'D20', 'B79', 'E25', 'D46', 'B73', 'C95', 'B38',\n",
       "       'B39', 'B22', 'C86', 'C70', 'A16', 'C101', 'C68', 'A10', 'E68',\n",
       "       'B41', 'A20', 'D19', 'D50', 'D9', 'A23', 'B50', 'A26', 'D48',\n",
       "       'E58', 'C126', 'B71', 'B51 B53 B55', 'D49', 'B5', 'B20', 'F G63',\n",
       "       'C62 C64', 'E24', 'C90', 'C45', 'E8', 'B101', 'D45', 'C46', 'D30',\n",
       "       'E121', 'D11', 'E77', 'F38', 'B3', 'D6', 'B82 B84', 'D17', 'A36',\n",
       "       'B102', 'B69', 'E49', 'C47', 'D28', 'E17', 'A24', 'C50', 'B42',\n",
       "       'C148'], dtype=object)"
      ]
     },
     "execution_count": 13,
     "metadata": {},
     "output_type": "execute_result"
    }
   ],
   "source": [
    "#'Cabin', 'Embarked'필드에는 어떤 값이 있는지 확인하기\n",
    "train['Cabin'].unique()\n",
    "#train['Cabin'].nunique()  갯수 147"
   ]
  },
  {
   "cell_type": "code",
   "execution_count": 14,
   "id": "78692bd2",
   "metadata": {
    "execution": {
     "iopub.execute_input": "2023-06-24T04:58:47.196227Z",
     "iopub.status.busy": "2023-06-24T04:58:47.195556Z",
     "iopub.status.idle": "2023-06-24T04:58:47.202274Z",
     "shell.execute_reply": "2023-06-24T04:58:47.201254Z"
    },
    "papermill": {
     "duration": 0.03474,
     "end_time": "2023-06-24T04:58:47.204440",
     "exception": false,
     "start_time": "2023-06-24T04:58:47.169700",
     "status": "completed"
    },
    "tags": []
   },
   "outputs": [
    {
     "data": {
      "text/plain": [
       "array(['S', 'C', 'Q', nan], dtype=object)"
      ]
     },
     "execution_count": 14,
     "metadata": {},
     "output_type": "execute_result"
    }
   ],
   "source": [
    "train['Embarked'].unique()\n",
    "#train['Embarked'].nunique() 3개"
   ]
  },
  {
   "cell_type": "code",
   "execution_count": 15,
   "id": "d4d802d4",
   "metadata": {
    "execution": {
     "iopub.execute_input": "2023-06-24T04:58:47.256188Z",
     "iopub.status.busy": "2023-06-24T04:58:47.255825Z",
     "iopub.status.idle": "2023-06-24T04:58:47.262234Z",
     "shell.execute_reply": "2023-06-24T04:58:47.261165Z"
    },
    "papermill": {
     "duration": 0.035443,
     "end_time": "2023-06-24T04:58:47.264863",
     "exception": false,
     "start_time": "2023-06-24T04:58:47.229420",
     "status": "completed"
    },
    "tags": []
   },
   "outputs": [
    {
     "name": "stdout",
     "output_type": "stream",
     "text": [
      "생존자 수:342, 사망자 수:549\n"
     ]
    }
   ],
   "source": [
    "#생존한 사람, 사망한 사람의 수 확인하기\n",
    "survival= train[\"Survived\"].sum()#생존한 사람의 수\n",
    "nsurvival = train.shape[0] - survival #사망한 사람의 수\n",
    "print(f\"생존자 수:{survival}, 사망자 수:{nsurvival}\")"
   ]
  },
  {
   "cell_type": "code",
   "execution_count": 16,
   "id": "fd5ecbe1",
   "metadata": {
    "execution": {
     "iopub.execute_input": "2023-06-24T04:58:47.316995Z",
     "iopub.status.busy": "2023-06-24T04:58:47.316611Z",
     "iopub.status.idle": "2023-06-24T04:58:47.323891Z",
     "shell.execute_reply": "2023-06-24T04:58:47.323176Z"
    },
    "papermill": {
     "duration": 0.035575,
     "end_time": "2023-06-24T04:58:47.325851",
     "exception": false,
     "start_time": "2023-06-24T04:58:47.290276",
     "status": "completed"
    },
    "tags": []
   },
   "outputs": [
    {
     "data": {
      "text/plain": [
       "3    491\n",
       "1    216\n",
       "2    184\n",
       "Name: Pclass, dtype: int64"
      ]
     },
     "execution_count": 16,
     "metadata": {},
     "output_type": "execute_result"
    }
   ],
   "source": [
    "#각 클래스('Pclass')별 탑승객 분포 확인하기\n",
    "train['Pclass'].value_counts()"
   ]
  },
  {
   "cell_type": "code",
   "execution_count": 17,
   "id": "8acab067",
   "metadata": {
    "execution": {
     "iopub.execute_input": "2023-06-24T04:58:47.377312Z",
     "iopub.status.busy": "2023-06-24T04:58:47.376647Z",
     "iopub.status.idle": "2023-06-24T04:58:47.383622Z",
     "shell.execute_reply": "2023-06-24T04:58:47.382950Z"
    },
    "papermill": {
     "duration": 0.03441,
     "end_time": "2023-06-24T04:58:47.385463",
     "exception": false,
     "start_time": "2023-06-24T04:58:47.351053",
     "status": "completed"
    },
    "tags": []
   },
   "outputs": [
    {
     "data": {
      "text/plain": [
       "male      577\n",
       "female    314\n",
       "Name: Sex, dtype: int64"
      ]
     },
     "execution_count": 17,
     "metadata": {},
     "output_type": "execute_result"
    }
   ],
   "source": [
    "#성('Sex')별 탑승객 분표 확인하기\n",
    "train['Sex'].value_counts()"
   ]
  },
  {
   "cell_type": "code",
   "execution_count": 18,
   "id": "afcef3e8",
   "metadata": {
    "execution": {
     "iopub.execute_input": "2023-06-24T04:58:47.436600Z",
     "iopub.status.busy": "2023-06-24T04:58:47.435929Z",
     "iopub.status.idle": "2023-06-24T04:58:47.444618Z",
     "shell.execute_reply": "2023-06-24T04:58:47.443819Z"
    },
    "papermill": {
     "duration": 0.036132,
     "end_time": "2023-06-24T04:58:47.446539",
     "exception": false,
     "start_time": "2023-06-24T04:58:47.410407",
     "status": "completed"
    },
    "tags": []
   },
   "outputs": [
    {
     "data": {
      "text/plain": [
       "PassengerId      0\n",
       "Survived         0\n",
       "Pclass           0\n",
       "Name             0\n",
       "Sex              0\n",
       "Age            177\n",
       "SibSp            0\n",
       "Parch            0\n",
       "Ticket           0\n",
       "Fare             0\n",
       "Cabin          687\n",
       "Embarked         2\n",
       "dtype: int64"
      ]
     },
     "execution_count": 18,
     "metadata": {},
     "output_type": "execute_result"
    }
   ],
   "source": [
    "#데이터 셋에 결측치가 있는지 확인하기\n",
    "train.isnull().sum()\n"
   ]
  },
  {
   "cell_type": "code",
   "execution_count": 19,
   "id": "c92058f4",
   "metadata": {
    "execution": {
     "iopub.execute_input": "2023-06-24T04:58:47.498526Z",
     "iopub.status.busy": "2023-06-24T04:58:47.497818Z",
     "iopub.status.idle": "2023-06-24T04:58:47.504854Z",
     "shell.execute_reply": "2023-06-24T04:58:47.504100Z"
    },
    "papermill": {
     "duration": 0.034775,
     "end_time": "2023-06-24T04:58:47.506663",
     "exception": false,
     "start_time": "2023-06-24T04:58:47.471888",
     "status": "completed"
    },
    "tags": []
   },
   "outputs": [
    {
     "data": {
      "text/plain": [
       "S    644\n",
       "C    168\n",
       "Q     77\n",
       "Name: Embarked, dtype: int64"
      ]
     },
     "execution_count": 19,
     "metadata": {},
     "output_type": "execute_result"
    }
   ],
   "source": [
    "#'Embarked' 필드의 결측치는 값이 가장 많은 'S'로 할당하기\n",
    "#Embarked :가장많은 값 구하기\n",
    "train[\"Embarked\"].value_counts()"
   ]
  },
  {
   "cell_type": "code",
   "execution_count": 20,
   "id": "2ec9d924",
   "metadata": {
    "execution": {
     "iopub.execute_input": "2023-06-24T04:58:47.559829Z",
     "iopub.status.busy": "2023-06-24T04:58:47.559143Z",
     "iopub.status.idle": "2023-06-24T04:58:47.563887Z",
     "shell.execute_reply": "2023-06-24T04:58:47.563241Z"
    },
    "papermill": {
     "duration": 0.033777,
     "end_time": "2023-06-24T04:58:47.565706",
     "exception": false,
     "start_time": "2023-06-24T04:58:47.531929",
     "status": "completed"
    },
    "tags": []
   },
   "outputs": [],
   "source": [
    "#'Embarked' 필드의 결측치는 값이 가장 많은 'S'로 할당하기\n",
    "train[\"Embarked\"] = train[\"Embarked\"].fillna('S')"
   ]
  },
  {
   "cell_type": "code",
   "execution_count": 21,
   "id": "35c7a865",
   "metadata": {
    "execution": {
     "iopub.execute_input": "2023-06-24T04:58:47.617236Z",
     "iopub.status.busy": "2023-06-24T04:58:47.616598Z",
     "iopub.status.idle": "2023-06-24T04:58:47.628009Z",
     "shell.execute_reply": "2023-06-24T04:58:47.627092Z"
    },
    "papermill": {
     "duration": 0.039686,
     "end_time": "2023-06-24T04:58:47.630009",
     "exception": false,
     "start_time": "2023-06-24T04:58:47.590323",
     "status": "completed"
    },
    "tags": []
   },
   "outputs": [
    {
     "data": {
      "text/plain": [
       "PassengerId      0\n",
       "Survived         0\n",
       "Pclass           0\n",
       "Name             0\n",
       "Sex              0\n",
       "Age              0\n",
       "SibSp            0\n",
       "Parch            0\n",
       "Ticket           0\n",
       "Fare             0\n",
       "Cabin          687\n",
       "Embarked         0\n",
       "dtype: int64"
      ]
     },
     "execution_count": 21,
     "metadata": {},
     "output_type": "execute_result"
    }
   ],
   "source": [
    "#'Age' 필드의 결측치는 값이 중간값으로 할당하기\n",
    "min= train[\"Age\"].median()\n",
    "train[\"Age\"] = train[\"Age\"].fillna(min)\n",
    "\n",
    "train.isna().sum()"
   ]
  },
  {
   "cell_type": "code",
   "execution_count": 22,
   "id": "60a2e978",
   "metadata": {
    "execution": {
     "iopub.execute_input": "2023-06-24T04:58:47.681418Z",
     "iopub.status.busy": "2023-06-24T04:58:47.680796Z",
     "iopub.status.idle": "2023-06-24T04:58:47.692569Z",
     "shell.execute_reply": "2023-06-24T04:58:47.691624Z"
    },
    "papermill": {
     "duration": 0.039558,
     "end_time": "2023-06-24T04:58:47.694619",
     "exception": false,
     "start_time": "2023-06-24T04:58:47.655061",
     "status": "completed"
    },
    "tags": []
   },
   "outputs": [
    {
     "data": {
      "text/plain": [
       "0        Mr\n",
       "1       Mrs\n",
       "2      Miss\n",
       "3       Mrs\n",
       "4        Mr\n",
       "       ... \n",
       "886     Rev\n",
       "887    Miss\n",
       "888    Miss\n",
       "889      Mr\n",
       "890      Mr\n",
       "Name: Title, Length: 891, dtype: object"
      ]
     },
     "execution_count": 22,
     "metadata": {},
     "output_type": "execute_result"
    }
   ],
   "source": [
    "# 'Name'필드에서 신분을 나타내는 단어를 뽑아서 'Title' 필드에 할당하기     .\n",
    "train['Title'] = train['Name'].str.extract('([A-Za-z]+)\\.', expand=False)  #extract()메소드에 인자값으로 정규식을 전달해주면 해당되는 문자열을 추출\n",
    "train['Title'] "
   ]
  },
  {
   "cell_type": "code",
   "execution_count": 23,
   "id": "206e538f",
   "metadata": {
    "execution": {
     "iopub.execute_input": "2023-06-24T04:58:47.745371Z",
     "iopub.status.busy": "2023-06-24T04:58:47.744988Z",
     "iopub.status.idle": "2023-06-24T04:58:47.751880Z",
     "shell.execute_reply": "2023-06-24T04:58:47.751034Z"
    },
    "papermill": {
     "duration": 0.034423,
     "end_time": "2023-06-24T04:58:47.753764",
     "exception": false,
     "start_time": "2023-06-24T04:58:47.719341",
     "status": "completed"
    },
    "tags": []
   },
   "outputs": [
    {
     "data": {
      "text/plain": [
       "array(['Mr', 'Mrs', 'Miss', 'Master', 'Don', 'Rev', 'Dr', 'Mme', 'Ms',\n",
       "       'Major', 'Lady', 'Sir', 'Mlle', 'Col', 'Capt', 'Countess',\n",
       "       'Jonkheer'], dtype=object)"
      ]
     },
     "execution_count": 23,
     "metadata": {},
     "output_type": "execute_result"
    }
   ],
   "source": [
    "train['Title'].unique()"
   ]
  },
  {
   "cell_type": "code",
   "execution_count": 24,
   "id": "acca6a00",
   "metadata": {
    "execution": {
     "iopub.execute_input": "2023-06-24T04:58:47.809361Z",
     "iopub.status.busy": "2023-06-24T04:58:47.808337Z",
     "iopub.status.idle": "2023-06-24T04:58:47.822930Z",
     "shell.execute_reply": "2023-06-24T04:58:47.822247Z"
    },
    "papermill": {
     "duration": 0.04498,
     "end_time": "2023-06-24T04:58:47.824645",
     "exception": false,
     "start_time": "2023-06-24T04:58:47.779665",
     "status": "completed"
    },
    "tags": []
   },
   "outputs": [
    {
     "data": {
      "text/plain": [
       "array(['Mr', 'Mrs', 'Miss', 'Master', 'Royalty', 'Officer', 'Countess'],\n",
       "      dtype=object)"
      ]
     },
     "execution_count": 24,
     "metadata": {},
     "output_type": "execute_result"
    }
   ],
   "source": [
    "#'Title' 필드의 카테고리를 6개의 항목으로 변경하기 :(['Mr', 'Mrs', 'Miss', 'Master', 'Royalty', 'Officer', 'Countess']\n",
    "train['Title'] = train['Title'].replace(['Capt', 'Col', 'Major', 'Dr', 'Rev'], 'Officer')\n",
    "train['Title'] = train['Title'].replace(['Jonkheer', 'Master'], 'Master')\n",
    "train['Title'] = train['Title'].replace(['Don', 'Sir', 'the Countess', 'Lady', 'Dona'], 'Royalty')\n",
    "train['Title'] = train['Title'].replace(['Mme', 'Ms', 'Mrs'], 'Mrs')\n",
    "train['Title'] = train['Title'].replace(['Mlle', 'Miss'], 'Miss')\n",
    "train['Title'] = train['Title'].replace(['Mr'], 'Mr')\n",
    "train['Title'] .unique()"
   ]
  },
  {
   "cell_type": "code",
   "execution_count": 25,
   "id": "b81a121e",
   "metadata": {
    "execution": {
     "iopub.execute_input": "2023-06-24T04:58:47.875952Z",
     "iopub.status.busy": "2023-06-24T04:58:47.875077Z",
     "iopub.status.idle": "2023-06-24T04:58:47.879303Z",
     "shell.execute_reply": "2023-06-24T04:58:47.878579Z"
    },
    "papermill": {
     "duration": 0.031586,
     "end_time": "2023-06-24T04:58:47.881212",
     "exception": false,
     "start_time": "2023-06-24T04:58:47.849626",
     "status": "completed"
    },
    "tags": []
   },
   "outputs": [],
   "source": [
    "# 변수 y를 선언해서 학습할 목표변수(=종속변수)인 'Survived'필드값을 담기\n",
    "y=train.Survived"
   ]
  },
  {
   "cell_type": "code",
   "execution_count": 26,
   "id": "81258d6f",
   "metadata": {
    "execution": {
     "iopub.execute_input": "2023-06-24T04:58:47.934278Z",
     "iopub.status.busy": "2023-06-24T04:58:47.933679Z",
     "iopub.status.idle": "2023-06-24T04:58:47.947910Z",
     "shell.execute_reply": "2023-06-24T04:58:47.947207Z"
    },
    "papermill": {
     "duration": 0.043271,
     "end_time": "2023-06-24T04:58:47.949837",
     "exception": false,
     "start_time": "2023-06-24T04:58:47.906566",
     "status": "completed"
    },
    "tags": []
   },
   "outputs": [
    {
     "data": {
      "text/plain": [
       "YoungAdult    373\n",
       "MiddleAged    195\n",
       "Youth         162\n",
       "Baby          139\n",
       "Senior         22\n",
       "Name: AgeGroup, dtype: int64"
      ]
     },
     "execution_count": 26,
     "metadata": {},
     "output_type": "execute_result"
    }
   ],
   "source": [
    "#나이('Age') 필드를 그룹핑하여 'AgeGroup'필드 생성하여 할당하기  ['Baby(-18)', 'Youth(19-25)', 'YoungAdult(26-35)', 'MiddleAged(36-60)', 'Senior(61-100)']\n",
    "bin = [0, 18, 25, 35, 60, 100]\n",
    "group_names = ['Baby', 'Youth', 'YoungAdult', 'MiddleAged', 'Senior']\n",
    "train['AgeGroup'] = pd.cut(train['Age'], bins=bin, labels=group_names) #AgeGroup컬럼의 값들을 bin에 맞게 잘라서 각 bin을 group_names와 1대1 매칭시켜 분류한다.\n",
    "\n",
    "n=train['AgeGroup'].value_counts()\n",
    "n\n"
   ]
  },
  {
   "cell_type": "markdown",
   "id": "04de0817",
   "metadata": {
    "papermill": {
     "duration": 0.026768,
     "end_time": "2023-06-24T04:58:48.002858",
     "exception": false,
     "start_time": "2023-06-24T04:58:47.976090",
     "status": "completed"
    },
    "tags": []
   },
   "source": []
  },
  {
   "cell_type": "markdown",
   "id": "4e96443e",
   "metadata": {
    "execution": {
     "iopub.execute_input": "2023-06-23T09:36:03.148718Z",
     "iopub.status.busy": "2023-06-23T09:36:03.148267Z",
     "iopub.status.idle": "2023-06-23T09:36:03.154773Z",
     "shell.execute_reply": "2023-06-23T09:36:03.153231Z",
     "shell.execute_reply.started": "2023-06-23T09:36:03.148681Z"
    },
    "papermill": {
     "duration": 0.024682,
     "end_time": "2023-06-24T04:58:48.052944",
     "exception": false,
     "start_time": "2023-06-24T04:58:48.028262",
     "status": "completed"
    },
    "tags": []
   },
   "source": [
    "## 3. 데이터 시각화 "
   ]
  },
  {
   "cell_type": "code",
   "execution_count": null,
   "id": "d43e99f3",
   "metadata": {
    "execution": {
     "iopub.execute_input": "2023-06-24T04:58:48.106704Z",
     "iopub.status.busy": "2023-06-24T04:58:48.106073Z",
     "iopub.status.idle": "2023-06-24T04:58:48.110103Z",
     "shell.execute_reply": "2023-06-24T04:58:48.109506Z"
    },
    "papermill": {
     "duration": 0.033117,
     "end_time": "2023-06-24T04:58:48.111873",
     "exception": false,
     "start_time": "2023-06-24T04:58:48.078756",
     "status": "completed"
    },
    "tags": []
   },
   "outputs": [],
   "source": [
    "#필요한 라이브러리 Import\n",
    "import matplotlib.pyplot as plt\n",
    "import seaborn as sns"
   ]
  },
  {
   "cell_type": "code",
   "execution_count": 17,
   "id": "d7a509c1",
   "metadata": {
    "execution": {
     "iopub.execute_input": "2023-06-24T04:58:48.162203Z",
     "iopub.status.busy": "2023-06-24T04:58:48.161622Z",
     "iopub.status.idle": "2023-06-24T04:58:48.431997Z",
     "shell.execute_reply": "2023-06-24T04:58:48.431074Z"
    },
    "papermill": {
     "duration": 0.298546,
     "end_time": "2023-06-24T04:58:48.434544",
     "exception": false,
     "start_time": "2023-06-24T04:58:48.135998",
     "status": "completed"
    },
    "tags": []
   },
   "outputs": [
    {
     "name": "stdout",
     "output_type": "stream",
     "text": [
      "Pclass\n",
      "1    0.629630\n",
      "2    0.472826\n",
      "3    0.242363\n",
      "Name: Survived, dtype: float64\n"
     ]
    },
    {
     "data": {
      "image/png": "[encoded data removed]",
      "text/plain": [
       "<Figure size 640x480 with 1 Axes>"
      ]
     },
     "metadata": {},
     "output_type": "display_data"
    }
   ],
   "source": [
    "#각 PClass에서 몇명이나 생존했는 지 통계를 내어보자 :\n",
    "s=train.groupby('Pclass')['Survived'].value_counts()\n",
    "# print(s)\n",
    "      \n",
    "survival_counts =train.groupby('Pclass')['Survived'].sum()\n",
    "#print(survival_counts)\n",
    "total_passengers = train.groupby('Pclass')['Survived'].count()\n",
    "#print(total_passengers)\n",
    "survival_rate =survival_counts/total_passengers\n",
    "print(survival_rate)\n",
    "\n",
    "#Pclass’에  따른생존율을 집계하여 막대 그래프를 그리자\n",
    "plt.bar(survival_rate.index, survival_rate.values)\n",
    "\n",
    "plt.xlabel('Pclass')\n",
    "plt.ylabel('Survival Rate')\n",
    "plt.xticks([1,2,3])\n",
    "plt.title('Survival Rate by Pclass')\n",
    "plt.show()\n",
    "\n",
    "\n",
    "\n",
    "#sns.barplot(x='Pclass', y='Survived', data=train)  같다"
   ]
  },
  {
   "cell_type": "code",
   "execution_count": 18,
   "id": "480956d6",
   "metadata": {
    "execution": {
     "iopub.execute_input": "2023-06-24T04:58:48.488240Z",
     "iopub.status.busy": "2023-06-24T04:58:48.487565Z",
     "iopub.status.idle": "2023-06-24T04:58:48.827802Z",
     "shell.execute_reply": "2023-06-24T04:58:48.826752Z"
    },
    "papermill": {
     "duration": 0.369632,
     "end_time": "2023-06-24T04:58:48.830024",
     "exception": false,
     "start_time": "2023-06-24T04:58:48.460392",
     "status": "completed"
    },
    "tags": []
   },
   "outputs": [
    {
     "data": {
      "text/plain": [
       "<Axes: xlabel='Pclass', ylabel='Survived'>"
      ]
     },
     "execution_count": 18,
     "metadata": {},
     "output_type": "execute_result"
    },
    {
     "data": {
      "image/png": "[encoded data removed]",
      "text/plain": [
       "<Figure size 640x480 with 1 Axes>"
      ]
     },
     "metadata": {},
     "output_type": "display_data"
    }
   ],
   "source": [
    "\n",
    "sns.barplot(x='Pclass', y='Survived', data=train)\n"
   ]
  },
  {
   "cell_type": "code",
   "execution_count": 30,
   "id": "b33a8850",
   "metadata": {
    "execution": {
     "iopub.execute_input": "2023-06-24T04:58:48.886571Z",
     "iopub.status.busy": "2023-06-24T04:58:48.885662Z",
     "iopub.status.idle": "2023-06-24T04:58:49.368111Z",
     "shell.execute_reply": "2023-06-24T04:58:49.367108Z"
    },
    "papermill": {
     "duration": 0.513255,
     "end_time": "2023-06-24T04:58:49.370636",
     "exception": false,
     "start_time": "2023-06-24T04:58:48.857381",
     "status": "completed"
    },
    "tags": []
   },
   "outputs": [
    {
     "data": {
      "text/plain": [
       "<Axes: xlabel='Pclass', ylabel='Survived'>"
      ]
     },
     "execution_count": 30,
     "metadata": {},
     "output_type": "execute_result"
    },
    {
     "data": {
      "image/png": "[encoded data removed]",
      "text/plain": [
       "<Figure size 640x480 with 1 Axes>"
      ]
     },
     "metadata": {},
     "output_type": "display_data"
    }
   ],
   "source": [
    "#학습 데이터셋(train)의 데이터 분포확인하기 ; barplot   #hist() 사용!!\n",
    "\n",
    "sns.barplot(x='Pclass', y='Survived', hue='Sex', data=train)"
   ]
  },
  {
   "cell_type": "code",
   "execution_count": 31,
   "id": "ffc58645",
   "metadata": {
    "execution": {
     "iopub.execute_input": "2023-06-24T04:58:49.427400Z",
     "iopub.status.busy": "2023-06-24T04:58:49.427009Z",
     "iopub.status.idle": "2023-06-24T04:58:49.912548Z",
     "shell.execute_reply": "2023-06-24T04:58:49.911128Z"
    },
    "papermill": {
     "duration": 0.515494,
     "end_time": "2023-06-24T04:58:49.914806",
     "exception": false,
     "start_time": "2023-06-24T04:58:49.399312",
     "status": "completed"
    },
    "tags": []
   },
   "outputs": [
    {
     "data": {
      "text/plain": [
       "Text(0.5, 1.0, 'Age')"
      ]
     },
     "execution_count": 31,
     "metadata": {},
     "output_type": "execute_result"
    },
    {
     "data": {
      "image/png": "[encoded data removed]",
      "text/plain": [
       "<Figure size 500x500 with 1 Axes>"
      ]
     },
     "metadata": {},
     "output_type": "display_data"
    }
   ],
   "source": [
    "# hist() 메소를 호출하여 train데이터의 각 컬럼에 대한 분포를 확인한다.\n",
    "#plt.hist(train[\"Age\"],bins=20)\n",
    "#sns.histplot(train,x='Age')\n",
    "sns.displot(train,x='Age',kind='hist')\n",
    "plt.title(\"Age\")"
   ]
  },
  {
   "cell_type": "code",
   "execution_count": 32,
   "id": "ad54bd60",
   "metadata": {
    "execution": {
     "iopub.execute_input": "2023-06-24T04:58:49.971588Z",
     "iopub.status.busy": "2023-06-24T04:58:49.970585Z",
     "iopub.status.idle": "2023-06-24T04:58:49.974692Z",
     "shell.execute_reply": "2023-06-24T04:58:49.974056Z"
    },
    "papermill": {
     "duration": 0.034162,
     "end_time": "2023-06-24T04:58:49.976502",
     "exception": false,
     "start_time": "2023-06-24T04:58:49.942340",
     "status": "completed"
    },
    "tags": []
   },
   "outputs": [],
   "source": [
    "# #모든 컬럼\n",
    "# columns = train.columns\n",
    "\n",
    "# # Create histograms for each column\n",
    "# for column in columns:\n",
    "#     sns.histplot(data=train, x=column)\n",
    "#     plt.title(f'Histogram of {column}')\n",
    "#     plt.show()"
   ]
  },
  {
   "cell_type": "code",
   "execution_count": 33,
   "id": "59495af4",
   "metadata": {
    "execution": {
     "iopub.execute_input": "2023-06-24T04:58:50.035437Z",
     "iopub.status.busy": "2023-06-24T04:58:50.034578Z",
     "iopub.status.idle": "2023-06-24T04:58:50.038447Z",
     "shell.execute_reply": "2023-06-24T04:58:50.037757Z"
    },
    "papermill": {
     "duration": 0.03649,
     "end_time": "2023-06-24T04:58:50.040366",
     "exception": false,
     "start_time": "2023-06-24T04:58:50.003876",
     "status": "completed"
    },
    "tags": []
   },
   "outputs": [],
   "source": [
    "#sns.pairplot(data=train, kind='hist')\n"
   ]
  },
  {
   "cell_type": "code",
   "execution_count": 34,
   "id": "701b5ac8",
   "metadata": {
    "execution": {
     "iopub.execute_input": "2023-06-24T04:58:50.097408Z",
     "iopub.status.busy": "2023-06-24T04:58:50.096810Z",
     "iopub.status.idle": "2023-06-24T04:58:50.598486Z",
     "shell.execute_reply": "2023-06-24T04:58:50.597140Z"
    },
    "papermill": {
     "duration": 0.533335,
     "end_time": "2023-06-24T04:58:50.600768",
     "exception": false,
     "start_time": "2023-06-24T04:58:50.067433",
     "status": "completed"
    },
    "tags": []
   },
   "outputs": [
    {
     "data": {
      "text/plain": [
       "<Axes: xlabel='Sex', ylabel='Survived'>"
      ]
     },
     "execution_count": 34,
     "metadata": {},
     "output_type": "execute_result"
    },
    {
     "data": {
      "image/png": "[encoded data removed]",
      "text/plain": [
       "<Figure size 640x480 with 1 Axes>"
      ]
     },
     "metadata": {},
     "output_type": "display_data"
    }
   ],
   "source": [
    "#성별('Sex')의 생존여부('Survived') 데이터 분포확인하기 : barplot\n",
    "# sns.barplot(x=train['Sex'],y=train['Survived'],hue=train['Sex'], dodge=False) //그래프를 자체를 겹치게 누적해서 출력\n",
    "# sns.barplot(x=train['Sex'],y=train['Survived'],hue=train['Sex'], dodge=True) //\n",
    "# sns.barplot(x=train['Sex'],y=train['Survived'],hue=train['Sex']) #디폴트는 dodge=True\n",
    "\n",
    "# sns.barplot(x=train['Sex'],y=train['Survived'],hue=train['Pclass'], dodge=False) #그래프를 자체를 겹치게 누적해서 출력\n",
    "sns.barplot(x=train['Sex'],y=train['Survived'],hue=train['Pclass'], dodge=True) #"
   ]
  },
  {
   "cell_type": "code",
   "execution_count": null,
   "id": "ed952b8a",
   "metadata": {
    "execution": {
     "iopub.execute_input": "2023-06-24T04:58:50.661608Z",
     "iopub.status.busy": "2023-06-24T04:58:50.660525Z",
     "iopub.status.idle": "2023-06-24T04:58:51.198788Z",
     "shell.execute_reply": "2023-06-24T04:58:51.197422Z"
    },
    "papermill": {
     "duration": 0.57032,
     "end_time": "2023-06-24T04:58:51.200246",
     "exception": true,
     "start_time": "2023-06-24T04:58:50.629926",
     "status": "failed"
    },
    "tags": []
   },
   "outputs": [],
   "source": [
    "#table=train.pivot_table(train,index=['Sex'], columns=['Pclass'],aggfunc={'Survived':np.sum})\n",
    "#table=train.pivot_table(train,index=['Sex'], columns=['Pclass'],values= ['Survived'],aggfunc=np.sum)\n",
    "print(table)\n",
    "table.plot(kind='bar')"
   ]
  },
  {
   "cell_type": "code",
   "execution_count": null,
   "id": "bcb9aec6",
   "metadata": {
    "execution": {
     "iopub.execute_input": "2023-06-23T19:50:33.766410Z",
     "iopub.status.busy": "2023-06-23T19:50:33.765960Z",
     "iopub.status.idle": "2023-06-23T19:50:34.301298Z",
     "shell.execute_reply": "2023-06-23T19:50:34.300026Z",
     "shell.execute_reply.started": "2023-06-23T19:50:33.766371Z"
    },
    "papermill": {
     "duration": null,
     "end_time": null,
     "exception": null,
     "start_time": null,
     "status": "pending"
    },
    "tags": []
   },
   "outputs": [],
   "source": [
    "sns.barplot(x=train['Sex'],y=train['Survived'],hue=train['Pclass'], dodge=False) #그래프를 자체를 겹치게 누적해서 출력"
   ]
  },
  {
   "cell_type": "code",
   "execution_count": null,
   "id": "39c2c333",
   "metadata": {
    "execution": {
     "iopub.execute_input": "2023-06-23T19:50:34.303246Z",
     "iopub.status.busy": "2023-06-23T19:50:34.302813Z",
     "iopub.status.idle": "2023-06-23T19:50:34.865623Z",
     "shell.execute_reply": "2023-06-23T19:50:34.864665Z",
     "shell.execute_reply.started": "2023-06-23T19:50:34.303205Z"
    },
    "papermill": {
     "duration": null,
     "end_time": null,
     "exception": null,
     "start_time": null,
     "status": "pending"
    },
    "tags": []
   },
   "outputs": [],
   "source": [
    "## 탑승 클래스('Pclass')별 + 성별('Sex') 생존여부('Survived') 데이터 분포확인하기 : barplot\n",
    "sns.barplot(x=\"Pclass\",y='Survived',hue='Sex',data=train)"
   ]
  },
  {
   "cell_type": "code",
   "execution_count": null,
   "id": "f902fb6f",
   "metadata": {
    "execution": {
     "iopub.execute_input": "2023-06-23T19:50:34.868276Z",
     "iopub.status.busy": "2023-06-23T19:50:34.867086Z",
     "iopub.status.idle": "2023-06-23T19:50:35.460207Z",
     "shell.execute_reply": "2023-06-23T19:50:35.459283Z",
     "shell.execute_reply.started": "2023-06-23T19:50:34.868237Z"
    },
    "papermill": {
     "duration": null,
     "end_time": null,
     "exception": null,
     "start_time": null,
     "status": "pending"
    },
    "tags": []
   },
   "outputs": [],
   "source": [
    "#전체 변수의 correlation에 대해 히트맵 그리기\n",
    "plt.subplots(figsize=(8,6))\n",
    "sns.heatmap(train.corr(),annot=True,linewidth=2)"
   ]
  },
  {
   "cell_type": "code",
   "execution_count": null,
   "id": "7b7fdfbd",
   "metadata": {
    "execution": {
     "iopub.execute_input": "2023-06-23T19:50:35.462594Z",
     "iopub.status.busy": "2023-06-23T19:50:35.461587Z",
     "iopub.status.idle": "2023-06-23T19:50:36.434022Z",
     "shell.execute_reply": "2023-06-23T19:50:36.433072Z",
     "shell.execute_reply.started": "2023-06-23T19:50:35.462558Z"
    },
    "papermill": {
     "duration": null,
     "end_time": null,
     "exception": null,
     "start_time": null,
     "status": "pending"
    },
    "tags": []
   },
   "outputs": [],
   "source": [
    "#06. 연령분포('AgeGroup')별 + 클래스('Pclass')별 생존여부('Survived') 데이터 분포확인하기: barplot\n",
    "sns.barplot(x='AgeGroup', y='Survived', hue='Pclass', data=train)"
   ]
  },
  {
   "cell_type": "code",
   "execution_count": null,
   "id": "15d4d68e",
   "metadata": {
    "execution": {
     "iopub.execute_input": "2023-06-23T19:50:36.436474Z",
     "iopub.status.busy": "2023-06-23T19:50:36.435502Z",
     "iopub.status.idle": "2023-06-23T19:50:37.373456Z",
     "shell.execute_reply": "2023-06-23T19:50:37.372018Z",
     "shell.execute_reply.started": "2023-06-23T19:50:36.436419Z"
    },
    "papermill": {
     "duration": null,
     "end_time": null,
     "exception": null,
     "start_time": null,
     "status": "pending"
    },
    "tags": []
   },
   "outputs": [],
   "source": [
    "#형제/자매수(\"SibSp\")별 + 클래스('Pclass') 별 생존여부(\"Survived\")\n",
    "sns.barplot(x='SibSp', y='Survived', hue='Pclass', data=train, dodge=False)"
   ]
  },
  {
   "cell_type": "markdown",
   "id": "1b61f695",
   "metadata": {
    "papermill": {
     "duration": null,
     "end_time": null,
     "exception": null,
     "start_time": null,
     "status": "pending"
    },
    "tags": []
   },
   "source": []
  },
  {
   "cell_type": "markdown",
   "id": "b6ddcdc1",
   "metadata": {
    "execution": {
     "iopub.execute_input": "2023-06-23T10:41:14.803306Z",
     "iopub.status.busy": "2023-06-23T10:41:14.802884Z",
     "iopub.status.idle": "2023-06-23T10:41:14.808078Z",
     "shell.execute_reply": "2023-06-23T10:41:14.806886Z",
     "shell.execute_reply.started": "2023-06-23T10:41:14.803271Z"
    },
    "papermill": {
     "duration": null,
     "end_time": null,
     "exception": null,
     "start_time": null,
     "status": "pending"
    },
    "tags": []
   },
   "source": [
    "## 3. 모델 생성 실습"
   ]
  },
  {
   "cell_type": "code",
   "execution_count": null,
   "id": "d9348c98",
   "metadata": {
    "execution": {
     "iopub.execute_input": "2023-06-23T19:50:37.376000Z",
     "iopub.status.busy": "2023-06-23T19:50:37.375534Z",
     "iopub.status.idle": "2023-06-23T19:50:37.383417Z",
     "shell.execute_reply": "2023-06-23T19:50:37.382338Z",
     "shell.execute_reply.started": "2023-06-23T19:50:37.375963Z"
    },
    "papermill": {
     "duration": null,
     "end_time": null,
     "exception": null,
     "start_time": null,
     "status": "pending"
    },
    "tags": []
   },
   "outputs": [],
   "source": [
    "#학습을 위한 데이터 준비, 'Name', 'Ticket', 'SibSp', 'Parch', 'Cabin' , 'AgeGroup'컬럼 삭제하기\n",
    "train = train.drop(['Name', 'Ticket', 'SibSp', 'Parch', 'Cabin'], axis=1)"
   ]
  },
  {
   "cell_type": "code",
   "execution_count": null,
   "id": "a0abd5a5",
   "metadata": {
    "execution": {
     "iopub.execute_input": "2023-06-23T19:50:37.386117Z",
     "iopub.status.busy": "2023-06-23T19:50:37.385307Z",
     "iopub.status.idle": "2023-06-23T19:50:37.416517Z",
     "shell.execute_reply": "2023-06-23T19:50:37.415145Z",
     "shell.execute_reply.started": "2023-06-23T19:50:37.386080Z"
    },
    "papermill": {
     "duration": null,
     "end_time": null,
     "exception": null,
     "start_time": null,
     "status": "pending"
    },
    "tags": []
   },
   "outputs": [],
   "source": [
    "#모델링에 사용할 변수의 타입을 숫자로 변환  : Sex(0/1), Embarked, Title, AgeGroup\n",
    "train"
   ]
  },
  {
   "cell_type": "code",
   "execution_count": null,
   "id": "fb641f98",
   "metadata": {
    "execution": {
     "iopub.execute_input": "2023-06-23T19:50:37.418514Z",
     "iopub.status.busy": "2023-06-23T19:50:37.418147Z",
     "iopub.status.idle": "2023-06-23T19:50:37.452828Z",
     "shell.execute_reply": "2023-06-23T19:50:37.451789Z",
     "shell.execute_reply.started": "2023-06-23T19:50:37.418479Z"
    },
    "papermill": {
     "duration": null,
     "end_time": null,
     "exception": null,
     "start_time": null,
     "status": "pending"
    },
    "tags": []
   },
   "outputs": [],
   "source": [
    "# 코드\n",
    "from sklearn.preprocessing import LabelEncoder\n",
    "train['Sex'].dtypes\n",
    "train['Sex'] = train['Sex'].astype(str)   #object=> string\n",
    "\n",
    "label = LabelEncoder()\n",
    "for col in ['Sex', 'Embarked', 'Title', 'AgeGroup']:\n",
    "    train[col] = label.fit_transform(train[col])  #string => int\n",
    "train"
   ]
  },
  {
   "cell_type": "code",
   "execution_count": null,
   "id": "16e47481",
   "metadata": {
    "execution": {
     "iopub.execute_input": "2023-06-23T19:50:37.457295Z",
     "iopub.status.busy": "2023-06-23T19:50:37.456307Z",
     "iopub.status.idle": "2023-06-23T19:50:37.472638Z",
     "shell.execute_reply": "2023-06-23T19:50:37.471132Z",
     "shell.execute_reply.started": "2023-06-23T19:50:37.457244Z"
    },
    "papermill": {
     "duration": null,
     "end_time": null,
     "exception": null,
     "start_time": null,
     "status": "pending"
    },
    "tags": []
   },
   "outputs": [],
   "source": [
    "#학습시킬 변수와 Label변수를 분리. X_train과 Y_train에 학습시킬 변수와 Label변수를 각각 분리한다.​\n",
    "X_train = train[['PassengerId', 'Pclass', 'Sex', 'Age', 'Fare', 'Embarked', 'Title', 'AgeGroup']]\n",
    "Y_train = train[['Survived']]"
   ]
  },
  {
   "cell_type": "code",
   "execution_count": null,
   "id": "70141e78",
   "metadata": {
    "execution": {
     "iopub.execute_input": "2023-06-23T19:50:37.475260Z",
     "iopub.status.busy": "2023-06-23T19:50:37.474836Z",
     "iopub.status.idle": "2023-06-23T19:50:37.485488Z",
     "shell.execute_reply": "2023-06-23T19:50:37.484357Z",
     "shell.execute_reply.started": "2023-06-23T19:50:37.475228Z"
    },
    "papermill": {
     "duration": null,
     "end_time": null,
     "exception": null,
     "start_time": null,
     "status": "pending"
    },
    "tags": []
   },
   "outputs": [],
   "source": [
    "#train dataset의 Survived컬럼과 다른 변수들 간의 상관관계를 확인.\n",
    "#X_train.corr()['Survived']\n"
   ]
  },
  {
   "cell_type": "markdown",
   "id": "487aa3ec",
   "metadata": {
    "papermill": {
     "duration": null,
     "end_time": null,
     "exception": null,
     "start_time": null,
     "status": "pending"
    },
    "tags": []
   },
   "source": [
    "##  Logistic Regression"
   ]
  },
  {
   "cell_type": "markdown",
   "id": "4dd66ee4",
   "metadata": {
    "papermill": {
     "duration": null,
     "end_time": null,
     "exception": null,
     "start_time": null,
     "status": "pending"
    },
    "tags": []
   },
   "source": []
  },
  {
   "cell_type": "code",
   "execution_count": null,
   "id": "8d28f211",
   "metadata": {
    "execution": {
     "iopub.execute_input": "2023-06-23T19:50:37.487621Z",
     "iopub.status.busy": "2023-06-23T19:50:37.486804Z",
     "iopub.status.idle": "2023-06-23T19:50:37.526310Z",
     "shell.execute_reply": "2023-06-23T19:50:37.524691Z",
     "shell.execute_reply.started": "2023-06-23T19:50:37.487586Z"
    },
    "papermill": {
     "duration": null,
     "end_time": null,
     "exception": null,
     "start_time": null,
     "status": "pending"
    },
    "tags": []
   },
   "outputs": [],
   "source": [
    "#TEST dataset 로드하기.\n",
    "test = pd.read_csv(dir_input+'test.csv')\n",
    "test"
   ]
  },
  {
   "cell_type": "code",
   "execution_count": null,
   "id": "8d9a1d3f",
   "metadata": {
    "execution": {
     "iopub.execute_input": "2023-06-23T19:50:37.528111Z",
     "iopub.status.busy": "2023-06-23T19:50:37.527701Z",
     "iopub.status.idle": "2023-06-23T19:50:37.540510Z",
     "shell.execute_reply": "2023-06-23T19:50:37.538981Z",
     "shell.execute_reply.started": "2023-06-23T19:50:37.528078Z"
    },
    "papermill": {
     "duration": null,
     "end_time": null,
     "exception": null,
     "start_time": null,
     "status": "pending"
    },
    "tags": []
   },
   "outputs": [],
   "source": [
    "#Test dataset null값 확인.\n",
    "test.isnull().sum()"
   ]
  },
  {
   "cell_type": "code",
   "execution_count": null,
   "id": "3122b69f",
   "metadata": {
    "execution": {
     "iopub.execute_input": "2023-06-23T19:50:37.542384Z",
     "iopub.status.busy": "2023-06-23T19:50:37.542026Z",
     "iopub.status.idle": "2023-06-23T19:50:37.575454Z",
     "shell.execute_reply": "2023-06-23T19:50:37.573898Z",
     "shell.execute_reply.started": "2023-06-23T19:50:37.542343Z"
    },
    "papermill": {
     "duration": null,
     "end_time": null,
     "exception": null,
     "start_time": null,
     "status": "pending"
    },
    "tags": []
   },
   "outputs": [],
   "source": [
    "#Test dataset null값 처리하기.\n",
    "test['Age'] = test['Age'].fillna(test['Age'].median())\n",
    "test['Fare'] = test['Fare'].fillna(test['Fare'].mean())\n",
    "#Age'컬럼의 null값들을 Age컬럼의 중앙값으로 대체한다. 'Fare'컬럼의 null값들을 Fare컬럼의 평균으로 대체한다.\n",
    "test"
   ]
  },
  {
   "cell_type": "code",
   "execution_count": null,
   "id": "2dd6017f",
   "metadata": {
    "execution": {
     "iopub.execute_input": "2023-06-23T19:50:37.577191Z",
     "iopub.status.busy": "2023-06-23T19:50:37.576790Z",
     "iopub.status.idle": "2023-06-23T19:50:37.596676Z",
     "shell.execute_reply": "2023-06-23T19:50:37.595357Z",
     "shell.execute_reply.started": "2023-06-23T19:50:37.577158Z"
    },
    "papermill": {
     "duration": null,
     "end_time": null,
     "exception": null,
     "start_time": null,
     "status": "pending"
    },
    "tags": []
   },
   "outputs": [],
   "source": [
    "train.head()"
   ]
  },
  {
   "cell_type": "code",
   "execution_count": null,
   "id": "e9752b87",
   "metadata": {
    "execution": {
     "iopub.execute_input": "2023-06-23T19:50:37.601350Z",
     "iopub.status.busy": "2023-06-23T19:50:37.600861Z",
     "iopub.status.idle": "2023-06-23T19:50:37.624853Z",
     "shell.execute_reply": "2023-06-23T19:50:37.623248Z",
     "shell.execute_reply.started": "2023-06-23T19:50:37.601302Z"
    },
    "papermill": {
     "duration": null,
     "end_time": null,
     "exception": null,
     "start_time": null,
     "status": "pending"
    },
    "tags": []
   },
   "outputs": [],
   "source": [
    "#train 데이터셋과 차원 맞춰주기.\n",
    "#train= train.drop(['Title','AgeGroup'],axis=1)\n",
    "train.head()\n",
    "train"
   ]
  },
  {
   "cell_type": "code",
   "execution_count": null,
   "id": "45223beb",
   "metadata": {
    "execution": {
     "iopub.execute_input": "2023-06-23T19:50:37.628077Z",
     "iopub.status.busy": "2023-06-23T19:50:37.627456Z",
     "iopub.status.idle": "2023-06-23T19:50:37.650080Z",
     "shell.execute_reply": "2023-06-23T19:50:37.648842Z",
     "shell.execute_reply.started": "2023-06-23T19:50:37.627982Z"
    },
    "papermill": {
     "duration": null,
     "end_time": null,
     "exception": null,
     "start_time": null,
     "status": "pending"
    },
    "tags": []
   },
   "outputs": [],
   "source": [
    "train"
   ]
  },
  {
   "cell_type": "code",
   "execution_count": null,
   "id": "5c1b31ae",
   "metadata": {
    "execution": {
     "iopub.execute_input": "2023-06-23T19:50:37.652096Z",
     "iopub.status.busy": "2023-06-23T19:50:37.651638Z",
     "iopub.status.idle": "2023-06-23T19:50:37.663807Z",
     "shell.execute_reply": "2023-06-23T19:50:37.662352Z",
     "shell.execute_reply.started": "2023-06-23T19:50:37.652056Z"
    },
    "papermill": {
     "duration": null,
     "end_time": null,
     "exception": null,
     "start_time": null,
     "status": "pending"
    },
    "tags": []
   },
   "outputs": [],
   "source": [
    "train.isna().sum()  #Nan개수 세기"
   ]
  },
  {
   "cell_type": "code",
   "execution_count": null,
   "id": "e6203f34",
   "metadata": {
    "execution": {
     "iopub.execute_input": "2023-06-23T19:50:37.666548Z",
     "iopub.status.busy": "2023-06-23T19:50:37.666079Z",
     "iopub.status.idle": "2023-06-23T19:50:37.682080Z",
     "shell.execute_reply": "2023-06-23T19:50:37.680627Z",
     "shell.execute_reply.started": "2023-06-23T19:50:37.666506Z"
    },
    "papermill": {
     "duration": null,
     "end_time": null,
     "exception": null,
     "start_time": null,
     "status": "pending"
    },
    "tags": []
   },
   "outputs": [],
   "source": [
    "# 'Name'필드에서 신분을 나타내는 단어를 뽑아서 'Title' 필드에 할당하기     .\n",
    "test['Title'] = test['Name'].str.extract('([A-Za-z]+)\\.', expand=False)  #extract()메소드에 인자값으로 정규식을 전달해주면 해당되는 문자열을 추출\n",
    "test['Title'] "
   ]
  },
  {
   "cell_type": "code",
   "execution_count": null,
   "id": "1800f1d6",
   "metadata": {
    "execution": {
     "iopub.execute_input": "2023-06-23T19:50:37.684939Z",
     "iopub.status.busy": "2023-06-23T19:50:37.684446Z",
     "iopub.status.idle": "2023-06-23T19:50:37.710345Z",
     "shell.execute_reply": "2023-06-23T19:50:37.708845Z",
     "shell.execute_reply.started": "2023-06-23T19:50:37.684895Z"
    },
    "papermill": {
     "duration": null,
     "end_time": null,
     "exception": null,
     "start_time": null,
     "status": "pending"
    },
    "tags": []
   },
   "outputs": [],
   "source": [
    "#'Title' 필드의 카테고리를 6개의 항목으로 변경하기 :(['Mr', 'Mrs', 'Miss', 'Master', 'Royalty', 'Officer', 'Countess']\n",
    "test['Title'] = test['Title'].replace(['Capt', 'Col', 'Major', 'Dr', 'Rev'], 'Officer')\n",
    "test['Title'] = test['Title'].replace(['Jonkheer', 'Master'], 'Master')\n",
    "test['Title'] = test['Title'].replace(['Don', 'Sir', 'the Countess', 'Lady', 'Dona'], 'Royalty')\n",
    "test['Title'] = test['Title'].replace(['Mme', 'Ms', 'Mrs'], 'Mrs')\n",
    "test['Title'] = test['Title'].replace(['Mlle', 'Miss'], 'Miss')\n",
    "test['Title'] = test['Title'].replace(['Mr'], 'Mr')\n",
    "test['Title'] .unique()\n"
   ]
  },
  {
   "cell_type": "code",
   "execution_count": null,
   "id": "d578e32e",
   "metadata": {
    "execution": {
     "iopub.execute_input": "2023-06-23T19:50:37.712717Z",
     "iopub.status.busy": "2023-06-23T19:50:37.711683Z",
     "iopub.status.idle": "2023-06-23T19:50:37.729617Z",
     "shell.execute_reply": "2023-06-23T19:50:37.728356Z",
     "shell.execute_reply.started": "2023-06-23T19:50:37.712682Z"
    },
    "papermill": {
     "duration": null,
     "end_time": null,
     "exception": null,
     "start_time": null,
     "status": "pending"
    },
    "tags": []
   },
   "outputs": [],
   "source": [
    "bin = [0, 18, 25, 35, 60, 100]\n",
    "group_names = ['Baby', 'Youth', 'YoungAdult', 'MiddleAged', 'Senior']\n",
    "test['AgeGroup'] = pd.cut(test['Age'], bins=bin, labels=group_names) #AgeGroup컬럼의 값들을 bin에 맞게 잘라서 각 bin을 group_names와 1대1 매칭시켜 분류한다.\n",
    "\n",
    "test['AgeGroup'].value_counts()\n",
    "\n"
   ]
  },
  {
   "cell_type": "code",
   "execution_count": null,
   "id": "1ad0e711",
   "metadata": {
    "execution": {
     "iopub.execute_input": "2023-06-23T19:50:37.732118Z",
     "iopub.status.busy": "2023-06-23T19:50:37.731340Z",
     "iopub.status.idle": "2023-06-23T19:50:37.765584Z",
     "shell.execute_reply": "2023-06-23T19:50:37.764172Z",
     "shell.execute_reply.started": "2023-06-23T19:50:37.732076Z"
    },
    "papermill": {
     "duration": null,
     "end_time": null,
     "exception": null,
     "start_time": null,
     "status": "pending"
    },
    "tags": []
   },
   "outputs": [],
   "source": [
    "test.head()"
   ]
  },
  {
   "cell_type": "code",
   "execution_count": null,
   "id": "af4fee3b",
   "metadata": {
    "execution": {
     "iopub.execute_input": "2023-06-23T19:50:37.768288Z",
     "iopub.status.busy": "2023-06-23T19:50:37.767846Z",
     "iopub.status.idle": "2023-06-23T19:50:37.777204Z",
     "shell.execute_reply": "2023-06-23T19:50:37.776152Z",
     "shell.execute_reply.started": "2023-06-23T19:50:37.768255Z"
    },
    "papermill": {
     "duration": null,
     "end_time": null,
     "exception": null,
     "start_time": null,
     "status": "pending"
    },
    "tags": []
   },
   "outputs": [],
   "source": [
    "#train 데이터셋과 차원 맞춰주기.\n",
    "#train= train.drop(['Title','AgeGroup'],aixis=1)\n",
    "\n",
    "#test = test.drop(['Age', 'PassengerId', 'Name', 'Ticket', 'SibSp', 'Parch', 'Cabin', 'Embarked'], axis=1)\n",
    "test = test.drop(['Name', 'Ticket', 'SibSp', 'Parch', 'Cabin'], axis=1)\n",
    "\n"
   ]
  },
  {
   "cell_type": "code",
   "execution_count": null,
   "id": "68eefe89",
   "metadata": {
    "execution": {
     "iopub.execute_input": "2023-06-23T19:50:37.779724Z",
     "iopub.status.busy": "2023-06-23T19:50:37.778813Z",
     "iopub.status.idle": "2023-06-23T19:50:37.803578Z",
     "shell.execute_reply": "2023-06-23T19:50:37.802745Z",
     "shell.execute_reply.started": "2023-06-23T19:50:37.779675Z"
    },
    "papermill": {
     "duration": null,
     "end_time": null,
     "exception": null,
     "start_time": null,
     "status": "pending"
    },
    "tags": []
   },
   "outputs": [],
   "source": [
    "test.head()"
   ]
  },
  {
   "cell_type": "code",
   "execution_count": null,
   "id": "af20ee43",
   "metadata": {
    "execution": {
     "iopub.execute_input": "2023-06-23T19:50:37.805434Z",
     "iopub.status.busy": "2023-06-23T19:50:37.805083Z",
     "iopub.status.idle": "2023-06-23T19:50:37.832130Z",
     "shell.execute_reply": "2023-06-23T19:50:37.830689Z",
     "shell.execute_reply.started": "2023-06-23T19:50:37.805404Z"
    },
    "papermill": {
     "duration": null,
     "end_time": null,
     "exception": null,
     "start_time": null,
     "status": "pending"
    },
    "tags": []
   },
   "outputs": [],
   "source": [
    "#'Sex'컬럼을 Object형에서 Interger(Number)형으로 변환해주기.\n",
    "test['Sex'] = label.fit_transform(test['Sex'])\n",
    "test"
   ]
  },
  {
   "cell_type": "code",
   "execution_count": null,
   "id": "18b6b6d9",
   "metadata": {
    "execution": {
     "iopub.execute_input": "2023-06-23T19:50:37.834021Z",
     "iopub.status.busy": "2023-06-23T19:50:37.833669Z",
     "iopub.status.idle": "2023-06-23T19:50:37.861126Z",
     "shell.execute_reply": "2023-06-23T19:50:37.859867Z",
     "shell.execute_reply.started": "2023-06-23T19:50:37.833992Z"
    },
    "papermill": {
     "duration": null,
     "end_time": null,
     "exception": null,
     "start_time": null,
     "status": "pending"
    },
    "tags": []
   },
   "outputs": [],
   "source": [
    "#숫자로 변환\n",
    "from sklearn.preprocessing import LabelEncoder\n",
    "test['Sex'].dtypes\n",
    "test['Sex'] = test['Sex'].astype(str)   #object=> string\n",
    "\n",
    "label = LabelEncoder()\n",
    "for col in ['Sex', 'Embarked', 'Title', 'AgeGroup']:\n",
    "#for col in ['Sex', 'Embarked']:\n",
    "    test[col] = label.fit_transform(test[col])  #string => int\n",
    "test"
   ]
  },
  {
   "cell_type": "markdown",
   "id": "ce1f1af5",
   "metadata": {
    "papermill": {
     "duration": null,
     "end_time": null,
     "exception": null,
     "start_time": null,
     "status": "pending"
    },
    "tags": []
   },
   "source": []
  },
  {
   "cell_type": "code",
   "execution_count": null,
   "id": "acbb28e8",
   "metadata": {
    "execution": {
     "iopub.execute_input": "2023-06-23T19:50:37.863280Z",
     "iopub.status.busy": "2023-06-23T19:50:37.862783Z",
     "iopub.status.idle": "2023-06-23T19:50:37.878476Z",
     "shell.execute_reply": "2023-06-23T19:50:37.877135Z",
     "shell.execute_reply.started": "2023-06-23T19:50:37.863239Z"
    },
    "papermill": {
     "duration": null,
     "end_time": null,
     "exception": null,
     "start_time": null,
     "status": "pending"
    },
    "tags": []
   },
   "outputs": [],
   "source": [
    "# test 데이터셋 Null 값 확인하기\n",
    "\n",
    "test.isnull().sum\n"
   ]
  },
  {
   "cell_type": "code",
   "execution_count": null,
   "id": "d4b1c075",
   "metadata": {
    "execution": {
     "iopub.execute_input": "2023-06-23T19:50:37.880698Z",
     "iopub.status.busy": "2023-06-23T19:50:37.880322Z",
     "iopub.status.idle": "2023-06-23T19:50:37.893639Z",
     "shell.execute_reply": "2023-06-23T19:50:37.892013Z",
     "shell.execute_reply.started": "2023-06-23T19:50:37.880667Z"
    },
    "papermill": {
     "duration": null,
     "end_time": null,
     "exception": null,
     "start_time": null,
     "status": "pending"
    },
    "tags": []
   },
   "outputs": [],
   "source": [
    "train.isna().sum()"
   ]
  },
  {
   "cell_type": "markdown",
   "id": "34dc543a",
   "metadata": {
    "papermill": {
     "duration": null,
     "end_time": null,
     "exception": null,
     "start_time": null,
     "status": "pending"
    },
    "tags": []
   },
   "source": []
  },
  {
   "cell_type": "code",
   "execution_count": null,
   "id": "87780e00",
   "metadata": {
    "execution": {
     "iopub.execute_input": "2023-06-23T19:50:37.896076Z",
     "iopub.status.busy": "2023-06-23T19:50:37.895183Z",
     "iopub.status.idle": "2023-06-23T19:50:37.902378Z",
     "shell.execute_reply": "2023-06-23T19:50:37.900985Z",
     "shell.execute_reply.started": "2023-06-23T19:50:37.896044Z"
    },
    "papermill": {
     "duration": null,
     "end_time": null,
     "exception": null,
     "start_time": null,
     "status": "pending"
    },
    "tags": []
   },
   "outputs": [],
   "source": [
    "# # X_train = train.drop([\"Survived\",\"PassengerId\"], axis=1)\n",
    "# # Y_train = train[\"Survived\"]\n",
    "\n",
    "# # X_test  = test.drop(\"PassengerId\", axis=1).copy()\n",
    "\n",
    "\n",
    "# #학습시킬 변수와 Label변수를 분리. X_train과 Y_train에 학습시킬 변수와 Label변수를 각각 분리한다.​\n",
    "# X_train = train[['PassengerId', 'Pclass', 'Sex', 'Age', 'Fare', 'Embarked', 'Title', 'AgeGroup','Survived']]\n",
    "# Y_train = train[['Survived']]\n",
    "# X_test  = test.copy()\n",
    "# X_train.shape, Y_train.shape, X_test.shape\n",
    "\n",
    "# print(X_train.head())\n",
    "# print(X_test.head())\n",
    "\n",
    "# # X_train = train.copy()\n",
    "# # #X_train = train.copy()\n",
    "# # Y_train = train[\"Survived\"]\n",
    "# # X_test  = test.drop(\"Survived\", axis=1).copy()\n",
    "# # X_train.shape, Y_train.shape, X_test.shape"
   ]
  },
  {
   "cell_type": "code",
   "execution_count": null,
   "id": "7e592d87",
   "metadata": {
    "execution": {
     "iopub.execute_input": "2023-06-23T19:50:37.904687Z",
     "iopub.status.busy": "2023-06-23T19:50:37.903861Z",
     "iopub.status.idle": "2023-06-23T19:50:37.921797Z",
     "shell.execute_reply": "2023-06-23T19:50:37.920497Z",
     "shell.execute_reply.started": "2023-06-23T19:50:37.904640Z"
    },
    "papermill": {
     "duration": null,
     "end_time": null,
     "exception": null,
     "start_time": null,
     "status": "pending"
    },
    "tags": []
   },
   "outputs": [],
   "source": [
    "# from sklearn.linear_model import LogisticRegression\n",
    "# model = LogisticRegression(solver='liblinear')\n",
    "# model.fit(X_train,Y_train)\n",
    "# #Logistic Regression모델로 예측하기.\n",
    "# pred = lr.predict(X_test)\n",
    "# pred"
   ]
  },
  {
   "cell_type": "code",
   "execution_count": null,
   "id": "67a60657",
   "metadata": {
    "execution": {
     "iopub.execute_input": "2023-06-23T19:52:02.876355Z",
     "iopub.status.busy": "2023-06-23T19:52:02.874603Z",
     "iopub.status.idle": "2023-06-23T19:52:03.177684Z",
     "shell.execute_reply": "2023-06-23T19:52:03.175970Z",
     "shell.execute_reply.started": "2023-06-23T19:52:02.876298Z"
    },
    "papermill": {
     "duration": null,
     "end_time": null,
     "exception": null,
     "start_time": null,
     "status": "pending"
    },
    "tags": []
   },
   "outputs": [],
   "source": [
    "from sklearn.ensemble import RandomForestClassifier\n",
    "\n",
    "y = train[\"Survived\"]\n",
    "\n",
    "features = [\"Pclass\", \"Sex\"]\n",
    "X = pd.get_dummies(train[features])\n",
    "X_test = pd.get_dummies(test[features])\n",
    "\n",
    "model = RandomForestClassifier(n_estimators=100, max_depth=5, random_state=1)\n",
    "model.fit(X, y)\n",
    "pred = model.predict(X_test)\n",
    "\n",
    "output = pd.DataFrame({'PassengerId': test.PassengerId, 'Survived': pred})\n",
    "output.to_csv('submission.csv', index=False)\n",
    "print(\"Your submission was successfully saved!\")\n",
    "\n",
    "print(train.shape)\n",
    "print(test.shape)\n",
    "train.head()\n",
    "test.head()"
   ]
  },
  {
   "cell_type": "code",
   "execution_count": null,
   "id": "f006b2d3",
   "metadata": {
    "execution": {
     "iopub.execute_input": "2023-06-23T19:50:38.208044Z",
     "iopub.status.busy": "2023-06-23T19:50:38.207161Z",
     "iopub.status.idle": "2023-06-23T19:50:38.224019Z",
     "shell.execute_reply": "2023-06-23T19:50:38.222720Z",
     "shell.execute_reply.started": "2023-06-23T19:50:38.208012Z"
    },
    "papermill": {
     "duration": null,
     "end_time": null,
     "exception": null,
     "start_time": null,
     "status": "pending"
    },
    "tags": []
   },
   "outputs": [],
   "source": [
    "cd /kaggle/working"
   ]
  },
  {
   "cell_type": "code",
   "execution_count": null,
   "id": "1166ef29",
   "metadata": {
    "execution": {
     "iopub.execute_input": "2023-06-23T19:50:38.226135Z",
     "iopub.status.busy": "2023-06-23T19:50:38.225640Z",
     "iopub.status.idle": "2023-06-23T19:50:38.252953Z",
     "shell.execute_reply": "2023-06-23T19:50:38.251420Z",
     "shell.execute_reply.started": "2023-06-23T19:50:38.226104Z"
    },
    "papermill": {
     "duration": null,
     "end_time": null,
     "exception": null,
     "start_time": null,
     "status": "pending"
    },
    "tags": []
   },
   "outputs": [],
   "source": [
    "#Submission 파일에 예측값 적용하기\n",
    "gender_submission = pd.read_csv(dir_input+'gender_submission.csv')\n",
    "print(gender_submission.shape)\n",
    "gender_submission['Survived'] = pred\n",
    "\n",
    "gender_submission.head()"
   ]
  },
  {
   "cell_type": "code",
   "execution_count": null,
   "id": "ae269308",
   "metadata": {
    "execution": {
     "iopub.execute_input": "2023-06-23T19:50:38.255402Z",
     "iopub.status.busy": "2023-06-23T19:50:38.254949Z",
     "iopub.status.idle": "2023-06-23T19:50:38.264054Z",
     "shell.execute_reply": "2023-06-23T19:50:38.262682Z",
     "shell.execute_reply.started": "2023-06-23T19:50:38.255348Z"
    },
    "papermill": {
     "duration": null,
     "end_time": null,
     "exception": null,
     "start_time": null,
     "status": "pending"
    },
    "tags": []
   },
   "outputs": [],
   "source": [
    "gender_submission.to_csv('titanic_submission2.csv', index=False)"
   ]
  },
  {
   "cell_type": "code",
   "execution_count": null,
   "id": "a21d9da1",
   "metadata": {
    "execution": {
     "iopub.execute_input": "2023-06-23T19:50:38.267069Z",
     "iopub.status.busy": "2023-06-23T19:50:38.265619Z",
     "iopub.status.idle": "2023-06-23T19:50:38.280201Z",
     "shell.execute_reply": "2023-06-23T19:50:38.279214Z",
     "shell.execute_reply.started": "2023-06-23T19:50:38.267011Z"
    },
    "papermill": {
     "duration": null,
     "end_time": null,
     "exception": null,
     "start_time": null,
     "status": "pending"
    },
    "tags": []
   },
   "outputs": [],
   "source": [
    "pwd"
   ]
  },
  {
   "cell_type": "code",
   "execution_count": null,
   "id": "e3429eae",
   "metadata": {
    "execution": {
     "iopub.execute_input": "2023-06-23T19:50:38.282127Z",
     "iopub.status.busy": "2023-06-23T19:50:38.281759Z",
     "iopub.status.idle": "2023-06-23T19:50:38.296708Z",
     "shell.execute_reply": "2023-06-23T19:50:38.295655Z",
     "shell.execute_reply.started": "2023-06-23T19:50:38.282097Z"
    },
    "papermill": {
     "duration": null,
     "end_time": null,
     "exception": null,
     "start_time": null,
     "status": "pending"
    },
    "tags": []
   },
   "outputs": [],
   "source": [
    "cd /kaggle/working/"
   ]
  },
  {
   "cell_type": "markdown",
   "id": "a1d8d06e",
   "metadata": {
    "papermill": {
     "duration": null,
     "end_time": null,
     "exception": null,
     "start_time": null,
     "status": "pending"
    },
    "tags": []
   },
   "source": []
  },
  {
   "cell_type": "code",
   "execution_count": null,
   "id": "fe42ebb3",
   "metadata": {
    "execution": {
     "iopub.execute_input": "2023-06-23T19:50:38.299480Z",
     "iopub.status.busy": "2023-06-23T19:50:38.298131Z",
     "iopub.status.idle": "2023-06-23T19:50:39.470844Z",
     "shell.execute_reply": "2023-06-23T19:50:39.469364Z",
     "shell.execute_reply.started": "2023-06-23T19:50:38.299445Z"
    },
    "papermill": {
     "duration": null,
     "end_time": null,
     "exception": null,
     "start_time": null,
     "status": "pending"
    },
    "tags": []
   },
   "outputs": [],
   "source": [
    "ls"
   ]
  }
 ],
 "metadata": {
  "kernelspec": {
   "display_name": "Python 3 (ipykernel)",
   "language": "python",
   "name": "python3"
  },
  "language_info": {
   "codemirror_mode": {
    "name": "ipython",
    "version": 3
   },
   "file_extension": ".py",
   "mimetype": "text/x-python",
   "name": "python",
   "nbconvert_exporter": "python",
   "pygments_lexer": "ipython3",
   "version": "3.10.9"
  },
  "papermill": {
   "default_parameters": {},
   "duration": 20.099129,
   "end_time": "2023-06-24T04:58:52.148866",
   "environment_variables": {},
   "exception": true,
   "input_path": "__notebook__.ipynb",
   "output_path": "__notebook__.ipynb",
   "parameters": {},
   "start_time": "2023-06-24T04:58:32.049737",
   "version": "2.4.0"
  }
 },
 "nbformat": 4,
 "nbformat_minor": 5
}
